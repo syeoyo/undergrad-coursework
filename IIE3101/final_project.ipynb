{
 "cells": [
  {
   "cell_type": "code",
   "execution_count": 1,
   "metadata": {},
   "outputs": [],
   "source": [
    "import math\n",
    "import random as rd\n",
    "import matplotlib.pyplot as plt\n",
    "import cvxpy as cp\n",
    "import numpy as np"
   ]
  },
  {
   "cell_type": "code",
   "execution_count": 2,
   "metadata": {},
   "outputs": [],
   "source": [
    "# 파라미터 설정\n",
    "T = 24  # 시간\n",
    "S = 100  # 몬테카를로 시뮬레이션 샘플 수"
   ]
  },
  {
   "cell_type": "code",
   "execution_count": 3,
   "metadata": {},
   "outputs": [],
   "source": [
    "# 결정 변수\n",
    "x = {t: cp.Variable(nonneg=True) for t in range(T)} # 서버 on 수\n",
    "x_H = {t: cp.Variable(nonneg=True) for t in range(T)}  # 고화질 서버 수\n",
    "x_L = {t: cp.Variable(nonneg=True) for t in range(T)}  # 저화질 서버 수\n",
    "w = {t: cp.Variable(nonneg=True) for t in range(T)}  # 서버 변화량\n",
    "w_H = {t: cp.Variable(nonneg=True) for t in range(T)}  # 고화질 서버 변화량\n",
    "w_L = {t: cp.Variable(nonneg=True) for t in range(T)}  # 저화질 서버 변화량\n",
    "a_H = {(t,s): cp.Variable(nonneg=True) for t in range(T) for s in range(S)}  # 고화질 요청 수\n",
    "a_L = {(t,s): cp.Variable(nonneg=True) for t in range(T) for s in range(S)}  # 저화질 요청 수\n",
    "b_H = {(t,s): cp.Variable(nonneg=True) for t in range(T) for s in range(S)}  # 고화질 미충족 요청 수\n",
    "b_L = {(t,s): cp.Variable(nonneg=True) for t in range(T) for s in range(S)}  # 저화질 미충족 요청 수"
   ]
  },
  {
   "cell_type": "code",
   "execution_count": 4,
   "metadata": {},
   "outputs": [],
   "source": [
    "# 파라미터 값\n",
    "P_H = 15  # 고화질 가격\n",
    "P_L = 10  # 저화질 가격\n",
    "Z = 1000  # 서버 용량\n",
    "Z_H = 10  # 고화질 대역폭\n",
    "Z_L = 2   # 저화질 대역폭\n",
    "C_H = 1.5 # 고화질 서비스 비용\n",
    "C_L = 0.5 # 저화질 서비스 비용\n",
    "C_on = 5  # 서버 에너지 비용\n",
    "C_m = 2   # 유지보수 비용\n",
    "F_H = 20  # 고화질 요청 미충족 패널티\n",
    "F_L = 10  # 저화질 요청 미충족 패널티\n",
    "pi = 1/S"
   ]
  },
  {
   "cell_type": "code",
   "execution_count": 5,
   "metadata": {},
   "outputs": [],
   "source": [
    "# alpha, mode determining stage\n",
    "mean = 374\n",
    "std = 1021\n",
    "var = std ** 2\n",
    "\n",
    "alpha = ((2 * var) + mean ** 2 + (4 * var ** 2 + mean ** 4) ** 0.5) / (2 * var)\n",
    "min = mean * (alpha - 1) / alpha\n",
    "\n",
    "# monte carlo\n",
    "\n",
    "def inverse(p):\n",
    "  return min / (1 - p) ** (1 / alpha)\n",
    "\n",
    "Dv = []\n",
    "\n",
    "for i in range(10000):\n",
    "  q = inverse(rd.random())\n",
    "  if q < 1000:\n",
    "    Dv.append(q)\n",
    "\n",
    "# plt.figure(figsize=(12,6))\n",
    "# plt.subplot(121)\n",
    "# plt.hist(Dv, density=True, bins=100)\n",
    "# plt.subplot(122)\n",
    "# plt.hist(Dv, density=True, cumulative=True, bins=100)\n",
    "# plt.show()\n",
    "\n",
    "# choose one for each\n",
    "\n",
    "means = [374, 241, 178, 89, 93, 103, 156, 201, 319, 527, 699, 743, 1458, 1021, 856, 1672, 923, 467, 584, 992, 642, 592, 855, 604]\n",
    "stds = [1021, 501, 255, 102, 151, 409, 666, 256, 684, 927, 772, 902, 1932, 2193, 1228, 2055, 1327, 1291, 841, 2231, 836, 901, 1127, 1307]\n",
    "vars = [i ** 2 for i in stds]\n",
    "alphas = [(((2 * vars[i]) + means[i] ** 2 + (4 * vars[i] ** 2 + means[i] ** 4) ** 0.5) / (2 * vars[i])) for i in range(24)]\n",
    "mins = [(means[i] * (alphas[i] - 1) / alphas[i]) for i in range(24)]\n",
    "\n",
    "def inverse_d(p, min, alpha):\n",
    "  return min / (1 - p) ** (1 / alpha)\n"
   ]
  },
  {
   "cell_type": "code",
   "execution_count": 6,
   "metadata": {},
   "outputs": [],
   "source": [
    "rd.seed(1)\n",
    "D = {}\n",
    "for i in range(24):\n",
    "    D[i] = {}  # 각 i에 대해 딕셔너리 초기화\n",
    "    for s in range(S):\n",
    "        D[i,s] = inverse_d(rd.random(), mins[i], alphas[i])"
   ]
  },
  {
   "cell_type": "code",
   "execution_count": 7,
   "metadata": {},
   "outputs": [],
   "source": [
    "rd.seed(2)\n",
    "alpha_H = {}\n",
    "alpha_L = {}\n",
    "for i in range(24):\n",
    "    alpha_H[i] = {}\n",
    "    alpha_L[i] = {}  # 각 i에 대해 딕셔너리 초기화\n",
    "    for s in range(S):\n",
    "        alpha_H[i,s] = 0.5 + 0.1 * math.cos(i / 12 * math.pi) + rd.random() / 5 - 0.1\n",
    "        alpha_L[i,s] = 1 - alpha_H[i,s]"
   ]
  },
  {
   "cell_type": "code",
   "execution_count": 8,
   "metadata": {},
   "outputs": [],
   "source": [
    "# time = [i for i in range(24)]\n",
    "# plt.plot(time, alpha_H)\n",
    "# plt.plot(time, alpha_L)\n",
    "# plt.show()"
   ]
  },
  {
   "cell_type": "code",
   "execution_count": 9,
   "metadata": {},
   "outputs": [],
   "source": [
    "obj_func = sum(\n",
    "    - C_on * x[t] - C_m * w[t] for t in range(T)\n",
    "    ) + sum(\n",
    "        pi * ((P_H-C_H) * a_H[t,s] + (P_L-C_L) * a_L[t,s] - F_H * b_H[t,s] - F_L * b_L[t,s]) \n",
    "        for t in range(T) for s in range(S))"
   ]
  },
  {
   "cell_type": "code",
   "execution_count": 10,
   "metadata": {},
   "outputs": [],
   "source": [
    "constraints = []\n",
    "# 서버 수 제약\n",
    "for t in range(T):\n",
    "    # constraints.append(x[t] <= N)  # 서버 수\n",
    "    constraints.append(x_H[t] + x_L[t] == x[t])\n",
    "\n",
    "# 서버 변화량 제약\n",
    "for t in range(1, T):\n",
    "    constraints.append(w_H[t] >= x_H[t] - x_H[t-1])  # 고화질 서버 변화량 제약 1\n",
    "    constraints.append(w_H[t] >= x_H[t-1] - x_H[t])  # 고화질 서버 변화량 제약 2\n",
    "    constraints.append(w_L[t] >= x_L[t] - x_L[t-1])  # 저화질 서버 변화량 제약 1\n",
    "    constraints.append(w_L[t] >= x_L[t-1] - x_L[t])  # 저화질 서버 변화량 제약 2\n",
    "    constraints.append(w[t] == w_H[t] + w_L[t])  # 서버 변화량의 총합 제약\n",
    "\n",
    "# 용량 제약\n",
    "for t in range(T):\n",
    "    for s in range(S):\n",
    "        constraints.append(Z_H * a_H[t,s] <= Z * x_H[t]) \n",
    "        constraints.append(Z_L * a_L[t,s] <= Z * x_L[t]) \n",
    "\n",
    "# 수요 제약\n",
    "for t in range(T):\n",
    "    for s in range(S):\n",
    "        constraints.append(a_H[t,s] + b_H[t,s] == alpha_H[t,s] * D[t,s])  # 고화질 수요\n",
    "        constraints.append(a_L[t,s] + b_L[t,s] == alpha_L[t,s] * D[t,s])  # 저화질 수요"
   ]
  },
  {
   "cell_type": "code",
   "execution_count": 11,
   "metadata": {},
   "outputs": [
    {
     "name": "stdout",
     "output_type": "stream",
     "text": [
      "Requirement already satisfied: gurobipy in /opt/anaconda3/lib/python3.12/site-packages (12.0.0)\n",
      "Note: you may need to restart the kernel to use updated packages.\n"
     ]
    }
   ],
   "source": [
    "pip install gurobipy"
   ]
  },
  {
   "cell_type": "code",
   "execution_count": 12,
   "metadata": {},
   "outputs": [
    {
     "name": "stderr",
     "output_type": "stream",
     "text": [
      "/opt/anaconda3/lib/python3.12/site-packages/cvxpy/problems/problem.py:158: UserWarning: Objective contains too many subexpressions. Consider vectorizing your CVXPY code to speed up compilation.\n",
      "  warnings.warn(\"Objective contains too many subexpressions. \"\n"
     ]
    },
    {
     "name": "stdout",
     "output_type": "stream",
     "text": [
      "Set parameter Username\n",
      "Set parameter LicenseID to value 2611964\n",
      "Academic license - for non-commercial use only - expires 2026-01-20\n"
     ]
    },
    {
     "data": {
      "text/plain": [
       "160153.45937605813"
      ]
     },
     "execution_count": 12,
     "metadata": {},
     "output_type": "execute_result"
    }
   ],
   "source": [
    "prob = cp.Problem(cp.Maximize(obj_func), constraints)\n",
    "prob.solve(solver='GUROBI')"
   ]
  },
  {
   "cell_type": "markdown",
   "metadata": {},
   "source": [
    "(a) How many servers should be on during each hour of the day?"
   ]
  },
  {
   "cell_type": "code",
   "execution_count": 1,
   "metadata": {},
   "outputs": [
    {
     "ename": "NameError",
     "evalue": "name 'T' is not defined",
     "output_type": "error",
     "traceback": [
      "\u001b[0;31m---------------------------------------------------------------------------\u001b[0m",
      "\u001b[0;31mNameError\u001b[0m                                 Traceback (most recent call last)",
      "Cell \u001b[0;32mIn[1], line 1\u001b[0m\n\u001b[0;32m----> 1\u001b[0m \u001b[38;5;28;01mfor\u001b[39;00m t \u001b[38;5;129;01min\u001b[39;00m \u001b[38;5;28mrange\u001b[39m(T):\n\u001b[1;32m      2\u001b[0m     \u001b[38;5;28mprint\u001b[39m(\u001b[38;5;124mf\u001b[39m\u001b[38;5;124m\"\u001b[39m\u001b[38;5;124mHour \u001b[39m\u001b[38;5;132;01m{\u001b[39;00mt\u001b[38;5;132;01m}\u001b[39;00m\u001b[38;5;124m: x = \u001b[39m\u001b[38;5;132;01m{\u001b[39;00mx[t]\u001b[38;5;241m.\u001b[39mvalue\u001b[38;5;132;01m}\u001b[39;00m\u001b[38;5;124m\"\u001b[39m)\n",
      "\u001b[0;31mNameError\u001b[0m: name 'T' is not defined"
     ]
    }
   ],
   "source": [
    "for t in range(T):\n",
    "    print(f\"Hour {t}: x = {x[t].value}\")"
   ]
  },
  {
   "cell_type": "markdown",
   "metadata": {},
   "source": [
    "(b) How should the available bandwidth during an hour be partitioned into high and low-quality videos?"
   ]
  },
  {
   "cell_type": "code",
   "execution_count": 55,
   "metadata": {},
   "outputs": [],
   "source": [
    "expected_alpha_H = {}\n",
    "for t in range(T):\n",
    "    expected_alpha_H[t] = sum(pi * alpha_H[t,s] for s in range(S))\n",
    "\n",
    "expected_alpha_L = {}\n",
    "for t in range(T):\n",
    "    expected_alpha_L[t] = sum(pi * alpha_L[t,s] for s in range(S))"
   ]
  },
  {
   "cell_type": "code",
   "execution_count": 56,
   "metadata": {},
   "outputs": [
    {
     "name": "stdout",
     "output_type": "stream",
     "text": [
      "Hour 0: alpha_H = 59.9, alpha_L = 40.1, H% = 89.34%, L% = 10.66%\n",
      "Hour 1: alpha_H = 59.87, alpha_L = 40.13, H% = 86.27%, L% = 13.73%\n",
      "Hour 2: alpha_H = 58.92, alpha_L = 41.08, H% = 88.5%, L% = 11.5%\n",
      "Hour 3: alpha_H = 56.97, alpha_L = 43.03, H% = 84.37%, L% = 15.63%\n",
      "Hour 4: alpha_H = 55.2, alpha_L = 44.8, H% = 82.62%, L% = 17.38%\n",
      "Hour 5: alpha_H = 52.42, alpha_L = 47.58, H% = 83.8%, L% = 16.2%\n",
      "Hour 6: alpha_H = 50.26, alpha_L = 49.74, H% = 77.97%, L% = 22.03%\n",
      "Hour 7: alpha_H = 47.88, alpha_L = 52.12, H% = 78.59%, L% = 21.41%\n",
      "Hour 8: alpha_H = 44.87, alpha_L = 55.13, H% = 81.58%, L% = 18.42%\n",
      "Hour 9: alpha_H = 42.85, alpha_L = 57.15, H% = 82.62%, L% = 17.38%\n",
      "Hour 10: alpha_H = 41.3, alpha_L = 58.7, H% = 81.17%, L% = 18.83%\n",
      "Hour 11: alpha_H = 40.57, alpha_L = 59.43, H% = 75.69%, L% = 24.31%\n",
      "Hour 12: alpha_H = 39.52, alpha_L = 60.48, H% = 76.43%, L% = 23.57%\n",
      "Hour 13: alpha_H = 40.27, alpha_L = 59.73, H% = 75.2%, L% = 24.8%\n",
      "Hour 14: alpha_H = 41.12, alpha_L = 58.88, H% = 79.49%, L% = 20.51%\n",
      "Hour 15: alpha_H = 42.91, alpha_L = 57.09, H% = 72.04%, L% = 27.96%\n",
      "Hour 16: alpha_H = 44.94, alpha_L = 55.06, H% = 75.3%, L% = 24.7%\n",
      "Hour 17: alpha_H = 47.47, alpha_L = 52.53, H% = 79.31%, L% = 20.69%\n",
      "Hour 18: alpha_H = 50.05, alpha_L = 49.95, H% = 80.22%, L% = 19.78%\n",
      "Hour 19: alpha_H = 53.04, alpha_L = 46.96, H% = 85.59%, L% = 14.41%\n",
      "Hour 20: alpha_H = 54.59, alpha_L = 45.41, H% = 86.23%, L% = 13.77%\n",
      "Hour 21: alpha_H = 56.89, alpha_L = 43.11, H% = 89.31%, L% = 10.69%\n",
      "Hour 22: alpha_H = 59.08, alpha_L = 40.92, H% = 88.98%, L% = 11.02%\n",
      "Hour 23: alpha_H = 59.39, alpha_L = 40.61, H% = 90.99%, L% = 9.01%\n"
     ]
    }
   ],
   "source": [
    "for t in range(T):\n",
    "    print(f\"Hour {t}: alpha_H = {round(expected_alpha_H[t]*100, 2)}, alpha_L = {round(expected_alpha_L[t]*100, 2)}, H% = {round(x_H[t].value/x[t].value*100, 2)}%, L% = {round(x_L[t].value/x[t].value*100, 2)}%\")"
   ]
  }
 ],
 "metadata": {
  "kernelspec": {
   "display_name": "base",
   "language": "python",
   "name": "python3"
  },
  "language_info": {
   "codemirror_mode": {
    "name": "ipython",
    "version": 3
   },
   "file_extension": ".py",
   "mimetype": "text/x-python",
   "name": "python",
   "nbconvert_exporter": "python",
   "pygments_lexer": "ipython3",
   "version": "3.12.7"
  }
 },
 "nbformat": 4,
 "nbformat_minor": 2
}
