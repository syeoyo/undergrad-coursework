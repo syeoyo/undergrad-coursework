{
 "cells": [
  {
   "cell_type": "code",
   "execution_count": 1,
   "metadata": {},
   "outputs": [],
   "source": [
    "korean_cities = {\n",
    "    \"Seoul\": (37.5665, 126.9780),\n",
    "    \"Busan\": (35.1796, 129.0756),\n",
    "    \"Incheon\": (37.4563, 126.7052),\n",
    "    \"Daegu\": (35.8714, 128.6014),\n",
    "    \"Daejeon\": (36.3504, 127.3845),\n",
    "    \"Gwangju\": (35.1595, 126.8526),\n",
    "    \"Suwon\": (37.2636, 127.0286),\n",
    "    \"Ulsan\": (35.5384, 129.3114),\n",
    "    \"Changwon\": (35.2285, 128.6811),\n",
    "    \"Jeonju\": (35.8242, 127.1480),\n",
    "}"
   ]
  },
  {
   "cell_type": "code",
   "execution_count": 2,
   "metadata": {},
   "outputs": [],
   "source": [
    "import math\n",
    "\n",
    "def haversine(coord1, coord2):\n",
    "    R = 6371  # Earth radius (km)\n",
    "    lat1, lon1 = map(math.radians, coord1)\n",
    "    lat2, lon2 = map(math.radians, coord2)\n",
    "    dlat = lat2 - lat1\n",
    "    dlon = lon2 - lon1\n",
    "    a = math.sin(dlat/2)**2 + math.cos(lat1) * math.cos(lat2) * math.sin(dlon/2)**2\n",
    "    c = 2 * math.asin(math.sqrt(a))\n",
    "    return R * c  # km\n",
    "\n",
    "COST_PER_KM = 100\n",
    "\n",
    "def travel_cost(city1, city2):\n",
    "    dist = haversine(korean_cities[city1], korean_cities[city2])\n",
    "    return dist * COST_PER_KM"
   ]
  },
  {
   "cell_type": "markdown",
   "metadata": {},
   "source": [
    "Breadth-First Search"
   ]
  },
  {
   "cell_type": "code",
   "execution_count": 3,
   "metadata": {},
   "outputs": [],
   "source": [
    "import time\n",
    "from collections import deque\n",
    "\n",
    "def compute_all_distances(cities):\n",
    "    city_list = list(cities.keys())\n",
    "    n = len(city_list)\n",
    "    dist = {}\n",
    "    for i in range(n):\n",
    "        for j in range(n):\n",
    "            if i != j:\n",
    "                c1, c2 = city_list[i], city_list[j]\n",
    "                dist[(c1, c2)] = travel_cost(c1, c2)\n",
    "    return dist\n",
    "\n",
    "def bfs_tsp(start_city, cities):\n",
    "    start_time = time.time()\n",
    "    city_list = list(cities.keys())\n",
    "    n = len(city_list)\n",
    "    dist = compute_all_distances(cities)\n",
    "\n",
    "    queue = deque()\n",
    "    queue.append((start_city, [start_city], 0)) \n",
    "    min_cost = float('inf')\n",
    "    best_path = None\n",
    "\n",
    "    while queue:\n",
    "        current_city, path, cost = queue.popleft()\n",
    "\n",
    "        if len(path) == n:\n",
    "            # Return to start to complete TSP\n",
    "            total_cost = cost + dist[(current_city, start_city)]\n",
    "            if total_cost < min_cost:\n",
    "                min_cost = total_cost\n",
    "                best_path = path + [start_city]\n",
    "            continue\n",
    "\n",
    "        for next_city in city_list:\n",
    "            if next_city not in path:\n",
    "                new_cost = cost + dist[(current_city, next_city)]\n",
    "                queue.append((next_city, path + [next_city], new_cost))\n",
    "\n",
    "    duration = time.time() - start_time\n",
    "    return best_path, min_cost, duration"
   ]
  },
  {
   "cell_type": "code",
   "execution_count": 4,
   "metadata": {},
   "outputs": [
    {
     "name": "stdout",
     "output_type": "stream",
     "text": [
      "BFS TSP Result:\n",
      "Path: Seoul → Daegu → Ulsan → Busan → Changwon → Gwangju → Jeonju → Daejeon → Suwon → Incheon → Seoul\n",
      "Total Cost (KRW): 86944.15\n",
      "Execution Time (s): 0.8248\n"
     ]
    }
   ],
   "source": [
    "path, cost, elapsed = bfs_tsp(\"Seoul\", korean_cities)\n",
    "print(\"BFS TSP Result:\")\n",
    "print(\"Path:\", \" → \".join(path))\n",
    "print(\"Total Cost (KRW):\", round(cost, 2))\n",
    "print(\"Execution Time (s):\", round(elapsed, 4))"
   ]
  },
  {
   "cell_type": "markdown",
   "metadata": {},
   "source": [
    "Uniform-Cost Search"
   ]
  },
  {
   "cell_type": "code",
   "execution_count": 5,
   "metadata": {},
   "outputs": [],
   "source": [
    "import heapq\n",
    "\n",
    "def ucs_tsp(start_city, cities):\n",
    "    start_time = time.time()\n",
    "    city_list = list(cities.keys())\n",
    "    n = len(city_list)\n",
    "    dist = compute_all_distances(cities)\n",
    "    \n",
    "    frontier = [(0, start_city, [start_city])]\n",
    "    min_cost = float('inf')\n",
    "    best_path = None\n",
    "\n",
    "    while frontier:\n",
    "        cost, current_city, path = heapq.heappop(frontier)\n",
    "\n",
    "        if len(path) == n:\n",
    "            total_cost = cost + dist[(current_city, start_city)]\n",
    "            if total_cost < min_cost:\n",
    "                min_cost = total_cost\n",
    "                best_path = path + [start_city]\n",
    "            continue\n",
    "\n",
    "        for next_city in city_list:\n",
    "            if next_city not in path:\n",
    "                new_cost = cost + dist[(current_city, next_city)]\n",
    "                heapq.heappush(frontier, (new_cost, next_city, path + [next_city]))\n",
    "\n",
    "    duration = time.time() - start_time\n",
    "    return best_path, min_cost, duration"
   ]
  },
  {
   "cell_type": "code",
   "execution_count": 6,
   "metadata": {},
   "outputs": [
    {
     "name": "stdout",
     "output_type": "stream",
     "text": [
      "UCS TSP Result:\n",
      "Path: Seoul → Daegu → Ulsan → Busan → Changwon → Gwangju → Jeonju → Daejeon → Suwon → Incheon → Seoul\n",
      "Total Cost (KRW): 86944.15\n",
      "Execution Time (s): 2.0457\n"
     ]
    }
   ],
   "source": [
    "path, cost, elapsed = ucs_tsp(\"Seoul\", korean_cities)\n",
    "print(\"UCS TSP Result:\")\n",
    "print(\"Path:\", \" → \".join(path))\n",
    "print(\"Total Cost (KRW):\", round(cost, 2))\n",
    "print(\"Execution Time (s):\", round(elapsed, 4))"
   ]
  },
  {
   "cell_type": "markdown",
   "metadata": {},
   "source": [
    "Depth-First Search"
   ]
  },
  {
   "cell_type": "code",
   "execution_count": 7,
   "metadata": {},
   "outputs": [],
   "source": [
    "def dfs_tsp(start_city, cities):\n",
    "    start_time = time.time()\n",
    "    city_list = list(cities.keys())\n",
    "    n = len(city_list)\n",
    "    dist = compute_all_distances(cities)\n",
    "\n",
    "    stack = [(start_city, [start_city], 0)]\n",
    "    min_cost = float('inf')\n",
    "    best_path = None\n",
    "\n",
    "    while stack:\n",
    "        current_city, path, cost = stack.pop()\n",
    "\n",
    "        if len(path) == n:\n",
    "            total_cost = cost + dist[(current_city, start_city)]\n",
    "            if total_cost < min_cost:\n",
    "                min_cost = total_cost\n",
    "                best_path = path + [start_city]\n",
    "            continue\n",
    "\n",
    "        for next_city in reversed(city_list):  # DFS → LIFO 순서\n",
    "            if next_city not in path:\n",
    "                new_cost = cost + dist[(current_city, next_city)]\n",
    "                stack.append((next_city, path + [next_city], new_cost))\n",
    "\n",
    "    duration = time.time() - start_time\n",
    "    return best_path, min_cost, duration"
   ]
  },
  {
   "cell_type": "code",
   "execution_count": 8,
   "metadata": {},
   "outputs": [
    {
     "name": "stdout",
     "output_type": "stream",
     "text": [
      "DFS TSP Result:\n",
      "Path: Seoul → Daegu → Ulsan → Busan → Changwon → Gwangju → Jeonju → Daejeon → Suwon → Incheon → Seoul\n",
      "Total Cost (KRW): 86944.15\n",
      "Execution Time (s): 0.5292\n"
     ]
    }
   ],
   "source": [
    "path, cost, elapsed = dfs_tsp(\"Seoul\", korean_cities)\n",
    "print(\"DFS TSP Result:\")\n",
    "print(\"Path:\", \" → \".join(path))\n",
    "print(\"Total Cost (KRW):\", round(cost, 2))\n",
    "print(\"Execution Time (s):\", round(elapsed, 4))"
   ]
  },
  {
   "cell_type": "markdown",
   "metadata": {},
   "source": [
    "Depth-Limited Search"
   ]
  },
  {
   "cell_type": "code",
   "execution_count": 9,
   "metadata": {},
   "outputs": [],
   "source": [
    "subset_cities = {\n",
    "    \"Seoul\": korean_cities[\"Seoul\"],\n",
    "    \"Incheon\": korean_cities[\"Incheon\"],\n",
    "    \"Suwon\": korean_cities[\"Suwon\"],\n",
    "    \"Daejeon\": korean_cities[\"Daejeon\"],\n",
    "    \"Jeonju\": korean_cities[\"Jeonju\"],\n",
    "    \"Daegu\": korean_cities[\"Daegu\"]\n",
    "}"
   ]
  },
  {
   "cell_type": "code",
   "execution_count": 10,
   "metadata": {},
   "outputs": [],
   "source": [
    "def dls_tsp(start_city, cities, depth_limit):\n",
    "    start_time = time.time()\n",
    "    city_list = list(cities.keys())\n",
    "    dist = compute_all_distances(cities)\n",
    "    min_cost = float('inf')\n",
    "    best_path = None\n",
    "\n",
    "    def dfs(city, path, cost, depth):\n",
    "        nonlocal min_cost, best_path\n",
    "        if depth == depth_limit:\n",
    "            total_cost = cost + dist[(city, start_city)]\n",
    "            if total_cost < min_cost:\n",
    "                min_cost = total_cost\n",
    "                best_path = path + [start_city]\n",
    "            return\n",
    "\n",
    "        for next_city in city_list:\n",
    "            if next_city not in path:\n",
    "                dfs(next_city, path + [next_city], cost + dist[(city, next_city)], depth + 1)\n",
    "\n",
    "    dfs(start_city, [start_city], 0, 0)\n",
    "    duration = time.time() - start_time\n",
    "    return best_path, min_cost, duration"
   ]
  },
  {
   "cell_type": "code",
   "execution_count": 11,
   "metadata": {},
   "outputs": [
    {
     "name": "stdout",
     "output_type": "stream",
     "text": [
      "DLS TSP Result (6 cities):\n",
      "Path: Seoul → Incheon → Suwon → Daejeon → Jeonju → Daegu → Seoul\n",
      "Total Cost (KRW): 60006.08\n",
      "Execution Time (s): 0.0001\n"
     ]
    }
   ],
   "source": [
    "path, cost, elapsed = dls_tsp(\"Seoul\", subset_cities, depth_limit=5)\n",
    "print(\"DLS TSP Result (6 cities):\")\n",
    "print(\"Path:\", \" → \".join(path))\n",
    "print(\"Total Cost (KRW):\", round(cost, 2))\n",
    "print(\"Execution Time (s):\", round(elapsed, 4))"
   ]
  },
  {
   "cell_type": "markdown",
   "metadata": {},
   "source": [
    "Iterative Deepening Search"
   ]
  },
  {
   "cell_type": "code",
   "execution_count": 12,
   "metadata": {},
   "outputs": [],
   "source": [
    "def ids_tsp(start_city, cities):\n",
    "    start_time = time.time()\n",
    "    city_list = list(cities.keys())\n",
    "    n = len(city_list)\n",
    "    dist = compute_all_distances(cities)\n",
    "\n",
    "    min_cost = float('inf')\n",
    "    best_path = None\n",
    "\n",
    "    def dls(city, path, cost, depth_limit):\n",
    "        nonlocal min_cost, best_path\n",
    "        if len(path) > depth_limit:\n",
    "            return\n",
    "        if len(path) == n:\n",
    "            total_cost = cost + dist[(city, start_city)]\n",
    "            if total_cost < min_cost:\n",
    "                min_cost = total_cost\n",
    "                best_path = path + [start_city]\n",
    "            return\n",
    "        for next_city in city_list:\n",
    "            if next_city not in path:\n",
    "                dls(next_city, path + [next_city], cost + dist[(city, next_city)], depth_limit)\n",
    "\n",
    "    for limit in range(1, n + 1):\n",
    "        dls(start_city, [start_city], 0, limit)\n",
    "\n",
    "    duration = time.time() - start_time\n",
    "    return best_path, min_cost, duration"
   ]
  },
  {
   "cell_type": "code",
   "execution_count": 13,
   "metadata": {},
   "outputs": [
    {
     "name": "stdout",
     "output_type": "stream",
     "text": [
      "IDS TSP Result:\n",
      "Path: Seoul → Daegu → Ulsan → Busan → Changwon → Gwangju → Jeonju → Daejeon → Suwon → Incheon → Seoul\n",
      "Total Cost (KRW): 86944.15\n",
      "Execution Time (s): 1.4496\n"
     ]
    }
   ],
   "source": [
    "path, cost, elapsed = ids_tsp(\"Seoul\", korean_cities)\n",
    "print(\"IDS TSP Result:\")\n",
    "print(\"Path:\", \" → \".join(path))\n",
    "print(\"Total Cost (KRW):\", round(cost, 2))\n",
    "print(\"Execution Time (s):\", round(elapsed, 4))"
   ]
  },
  {
   "cell_type": "markdown",
   "metadata": {},
   "source": [
    "Bidirectional Search"
   ]
  },
  {
   "cell_type": "code",
   "execution_count": 17,
   "metadata": {},
   "outputs": [],
   "source": [
    "from itertools import permutations\n",
    "import time\n",
    "\n",
    "def bidirectional_tsp(start_city, cities):\n",
    "    start_time = time.time()\n",
    "    city_list = list(cities.keys())\n",
    "    city_list.remove(start_city)\n",
    "    n = len(city_list)\n",
    "\n",
    "    dist = compute_all_distances(cities)\n",
    "\n",
    "    min_cost = float('inf')\n",
    "    best_path = None\n",
    "\n",
    "    for perm in permutations(city_list):\n",
    "        path = [start_city] + list(perm) + [start_city]\n",
    "        cost = 0\n",
    "        for i in range(len(path) - 1):\n",
    "            cost += dist[(path[i], path[i + 1])]\n",
    "        if cost < min_cost:\n",
    "            min_cost = cost\n",
    "            best_path = path\n",
    "\n",
    "    duration = time.time() - start_time\n",
    "    return best_path, min_cost, duration"
   ]
  },
  {
   "cell_type": "code",
   "execution_count": 18,
   "metadata": {},
   "outputs": [
    {
     "name": "stdout",
     "output_type": "stream",
     "text": [
      "Bidirectional TSP Result:\n",
      "Path: Seoul → Daegu → Ulsan → Busan → Changwon → Gwangju → Jeonju → Daejeon → Suwon → Incheon → Seoul\n",
      "Total Cost (KRW): 86944.15\n",
      "Execution Time (s): 0.4424\n"
     ]
    }
   ],
   "source": [
    "path, cost, elapsed = bidirectional_tsp(\"Seoul\", korean_cities)\n",
    "print(\"Bidirectional TSP Result:\")\n",
    "print(\"Path:\", \" → \".join(path))\n",
    "print(\"Total Cost (KRW):\", round(cost, 2))\n",
    "print(\"Execution Time (s):\", round(elapsed, 4))"
   ]
  },
  {
   "cell_type": "markdown",
   "metadata": {},
   "source": [
    "Comparative Study"
   ]
  },
  {
   "cell_type": "code",
   "execution_count": 19,
   "metadata": {},
   "outputs": [
    {
     "data": {
      "text/html": [
       "<div>\n",
       "<style scoped>\n",
       "    .dataframe tbody tr th:only-of-type {\n",
       "        vertical-align: middle;\n",
       "    }\n",
       "\n",
       "    .dataframe tbody tr th {\n",
       "        vertical-align: top;\n",
       "    }\n",
       "\n",
       "    .dataframe thead th {\n",
       "        text-align: right;\n",
       "    }\n",
       "</style>\n",
       "<table border=\"1\" class=\"dataframe\">\n",
       "  <thead>\n",
       "    <tr style=\"text-align: right;\">\n",
       "      <th></th>\n",
       "      <th>Algorithm</th>\n",
       "      <th>Path</th>\n",
       "      <th>Cost</th>\n",
       "      <th>Time (s)</th>\n",
       "    </tr>\n",
       "  </thead>\n",
       "  <tbody>\n",
       "    <tr>\n",
       "      <th>0</th>\n",
       "      <td>Breadth-First Search</td>\n",
       "      <td>Seoul → Daegu → Ulsan → Busan → Changwon → Gwa...</td>\n",
       "      <td>86944.154475</td>\n",
       "      <td>0.8980</td>\n",
       "    </tr>\n",
       "    <tr>\n",
       "      <th>1</th>\n",
       "      <td>Uniform-Cost Search</td>\n",
       "      <td>Seoul → Daegu → Ulsan → Busan → Changwon → Gwa...</td>\n",
       "      <td>86944.154475</td>\n",
       "      <td>2.2914</td>\n",
       "    </tr>\n",
       "    <tr>\n",
       "      <th>2</th>\n",
       "      <td>Depth-First Search</td>\n",
       "      <td>Seoul → Daegu → Ulsan → Busan → Changwon → Gwa...</td>\n",
       "      <td>86944.154475</td>\n",
       "      <td>0.5970</td>\n",
       "    </tr>\n",
       "    <tr>\n",
       "      <th>3</th>\n",
       "      <td>Depth-Limited Search</td>\n",
       "      <td>Seoul → Incheon → Suwon → Daejeon → Jeonju → D...</td>\n",
       "      <td>60006.075169</td>\n",
       "      <td>0.0001</td>\n",
       "    </tr>\n",
       "    <tr>\n",
       "      <th>4</th>\n",
       "      <td>Iterative Deepening Search</td>\n",
       "      <td>Seoul → Daegu → Ulsan → Busan → Changwon → Gwa...</td>\n",
       "      <td>86944.154475</td>\n",
       "      <td>1.3383</td>\n",
       "    </tr>\n",
       "    <tr>\n",
       "      <th>5</th>\n",
       "      <td>Bidirectional Search</td>\n",
       "      <td>Seoul → Daegu → Ulsan → Busan → Changwon → Gwa...</td>\n",
       "      <td>86944.154475</td>\n",
       "      <td>0.4060</td>\n",
       "    </tr>\n",
       "  </tbody>\n",
       "</table>\n",
       "</div>"
      ],
      "text/plain": [
       "                    Algorithm  \\\n",
       "0        Breadth-First Search   \n",
       "1         Uniform-Cost Search   \n",
       "2          Depth-First Search   \n",
       "3        Depth-Limited Search   \n",
       "4  Iterative Deepening Search   \n",
       "5        Bidirectional Search   \n",
       "\n",
       "                                                Path          Cost  Time (s)  \n",
       "0  Seoul → Daegu → Ulsan → Busan → Changwon → Gwa...  86944.154475    0.8980  \n",
       "1  Seoul → Daegu → Ulsan → Busan → Changwon → Gwa...  86944.154475    2.2914  \n",
       "2  Seoul → Daegu → Ulsan → Busan → Changwon → Gwa...  86944.154475    0.5970  \n",
       "3  Seoul → Incheon → Suwon → Daejeon → Jeonju → D...  60006.075169    0.0001  \n",
       "4  Seoul → Daegu → Ulsan → Busan → Changwon → Gwa...  86944.154475    1.3383  \n",
       "5  Seoul → Daegu → Ulsan → Busan → Changwon → Gwa...  86944.154475    0.4060  "
      ]
     },
     "execution_count": 19,
     "metadata": {},
     "output_type": "execute_result"
    }
   ],
   "source": [
    "import pandas as pd\n",
    "\n",
    "results_summary = [\n",
    "    {\"Algorithm\": \"Breadth-First Search\", \"Path\": bfs_tsp(\"Seoul\", korean_cities)[0],\n",
    "     \"Cost\": bfs_tsp(\"Seoul\", korean_cities)[1], \"Time (s)\": round(bfs_tsp(\"Seoul\", korean_cities)[2], 4)},\n",
    "    \n",
    "    {\"Algorithm\": \"Uniform-Cost Search\", \"Path\": ucs_tsp(\"Seoul\", korean_cities)[0],\n",
    "     \"Cost\": ucs_tsp(\"Seoul\", korean_cities)[1], \"Time (s)\": round(ucs_tsp(\"Seoul\", korean_cities)[2], 4)},\n",
    "    \n",
    "    {\"Algorithm\": \"Depth-First Search\", \"Path\": dfs_tsp(\"Seoul\", korean_cities)[0],\n",
    "     \"Cost\": dfs_tsp(\"Seoul\", korean_cities)[1], \"Time (s)\": round(dfs_tsp(\"Seoul\", korean_cities)[2], 4)},\n",
    "    \n",
    "    {\"Algorithm\": \"Depth-Limited Search\", \"Path\": dls_tsp(\"Seoul\", subset_cities, 5)[0],\n",
    "     \"Cost\": dls_tsp(\"Seoul\", subset_cities, 5)[1], \"Time (s)\": round(dls_tsp(\"Seoul\", subset_cities, 5)[2], 4)},\n",
    "    \n",
    "    {\"Algorithm\": \"Iterative Deepening Search\", \"Path\": ids_tsp(\"Seoul\", korean_cities)[0],\n",
    "     \"Cost\": ids_tsp(\"Seoul\", korean_cities)[1], \"Time (s)\": round(ids_tsp(\"Seoul\", korean_cities)[2], 4)},\n",
    "    \n",
    "    {\"Algorithm\": \"Bidirectional Search\", \"Path\": bidirectional_tsp(\"Seoul\", korean_cities)[0],\n",
    "     \"Cost\": bidirectional_tsp(\"Seoul\", korean_cities)[1], \"Time (s)\": round(bidirectional_tsp(\"Seoul\", korean_cities)[2], 4)},\n",
    "]\n",
    "\n",
    "\n",
    "df_results = pd.DataFrame(results_summary)\n",
    "df_results[\"Path\"] = df_results[\"Path\"].apply(lambda p: \" → \".join(p) if p else \"None\")\n",
    "pd.DataFrame(df_results)"
   ]
  }
 ],
 "metadata": {
  "kernelspec": {
   "display_name": "Python 3",
   "language": "python",
   "name": "python3"
  },
  "language_info": {
   "codemirror_mode": {
    "name": "ipython",
    "version": 3
   },
   "file_extension": ".py",
   "mimetype": "text/x-python",
   "name": "python",
   "nbconvert_exporter": "python",
   "pygments_lexer": "ipython3",
   "version": "3.9.6"
  }
 },
 "nbformat": 4,
 "nbformat_minor": 2
}
