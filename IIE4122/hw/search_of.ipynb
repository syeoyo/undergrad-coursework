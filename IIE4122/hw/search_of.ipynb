{
 "cells": [
  {
   "cell_type": "code",
   "execution_count": 1,
   "metadata": {},
   "outputs": [
    {
     "name": "stdout",
     "output_type": "stream",
     "text": [
      "Action 1 [Search]: Found 'of' in sentence 3: \"I have a dream that one day this nation will rise up and live out the true meaning of its creed. — Martin Luther King Jr.\"\n",
      "Action 1 [Search]: Found 'of' in sentence 4: \"Government of the people, by the people, for the people, shall not perish from the Earth. — Abraham Lincoln\"\n",
      "Action 1 [Search]: Found 'of' in sentence 5: \"The arc of the moral universe is long, but it bends toward justice. — Martin Luther King Jr.\"\n",
      "Action 1 [Search]: Found 'of' in sentence 8: \"Let us never negotiate out of fear, but let us never fear to negotiate. — John F. Kennedy\"\n",
      "Action 2 [Execution time]: 0.000000 seconds\n"
     ]
    }
   ],
   "source": [
    "import time\n",
    "\n",
    "# Example sentences\n",
    "sentences = [\n",
    "    \"The only thing we have to fear is fear itself. — Franklin D. Roosevelt\",\n",
    "    \"Ask not what your country can do for you — ask what you can do for your country. — John F. Kennedy\",\n",
    "    \"I have a dream that one day this nation will rise up and live out the true meaning of its creed. — Martin Luther King Jr.\",\n",
    "    \"Government of the people, by the people, for the people, shall not perish from the Earth. — Abraham Lincoln\",\n",
    "    \"The arc of the moral universe is long, but it bends toward justice. — Martin Luther King Jr.\",\n",
    "    \"Injustice anywhere is a threat to justice everywhere. — Martin Luther King Jr.\",\n",
    "    \"The world will little note, nor long remember what we say here, but it can never forget what they did here. — Abraham Lincoln\",\n",
    "    \"Let us never negotiate out of fear, but let us never fear to negotiate. — John F. Kennedy\",\n",
    "    \"To be yourself in a world that is constantly trying to make you something else is the greatest accomplishment. — Ralph Waldo Emerson\",\n",
    "    \"That’s one small step for man, one giant leap for mankind. — Neil Armstrong\"\n",
    "]\n",
    "\n",
    "# Search for 'of'\n",
    "start_time = time.time()\n",
    "for i, sentence in enumerate(sentences):\n",
    "    if 'of' in sentence.lower():\n",
    "        print(f\"Action 1 [Search]: Found 'of' in sentence {i+1}: \\\"{sentence}\\\"\")\n",
    "end_time = time.time()\n",
    "\n",
    "# Report execution time\n",
    "print(f\"Action 2 [Execution time]: {end_time - start_time:.6f} seconds\")\n"
   ]
  }
 ],
 "metadata": {
  "kernelspec": {
   "display_name": "base",
   "language": "python",
   "name": "python3"
  },
  "language_info": {
   "codemirror_mode": {
    "name": "ipython",
    "version": 3
   },
   "file_extension": ".py",
   "mimetype": "text/x-python",
   "name": "python",
   "nbconvert_exporter": "python",
   "pygments_lexer": "ipython3",
   "version": "3.12.7"
  }
 },
 "nbformat": 4,
 "nbformat_minor": 2
}
