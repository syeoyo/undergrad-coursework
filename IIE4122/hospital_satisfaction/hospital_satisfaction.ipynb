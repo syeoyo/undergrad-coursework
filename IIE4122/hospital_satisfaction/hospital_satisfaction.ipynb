{
 "cells": [
  {
   "cell_type": "markdown",
   "metadata": {},
   "source": [
    "### Data"
   ]
  },
  {
   "cell_type": "markdown",
   "metadata": {},
   "source": [
    "Sample data related to satisfaction were generated based on https://rankings.newsweek.com/worlds-best-hospitals-2025-top-250/south-korea, and sample data related to expenses were generated based on https://www.doctorsnews.co.kr/news/articleView.html?idxno=156850."
   ]
  },
  {
   "cell_type": "code",
   "execution_count": 16,
   "metadata": {},
   "outputs": [],
   "source": [
    "# !pip install pandas numpy scikit-learn"
   ]
  },
  {
   "cell_type": "code",
   "execution_count": 19,
   "metadata": {},
   "outputs": [
    {
     "data": {
      "text/html": [
       "<div>\n",
       "<style scoped>\n",
       "    .dataframe tbody tr th:only-of-type {\n",
       "        vertical-align: middle;\n",
       "    }\n",
       "\n",
       "    .dataframe tbody tr th {\n",
       "        vertical-align: top;\n",
       "    }\n",
       "\n",
       "    .dataframe thead th {\n",
       "        text-align: right;\n",
       "    }\n",
       "</style>\n",
       "<table border=\"1\" class=\"dataframe\">\n",
       "  <thead>\n",
       "    <tr style=\"text-align: right;\">\n",
       "      <th></th>\n",
       "      <th>hospital</th>\n",
       "      <th>age</th>\n",
       "      <th>sex</th>\n",
       "      <th>satisfaction_rate</th>\n",
       "      <th>estimated_expense</th>\n",
       "    </tr>\n",
       "  </thead>\n",
       "  <tbody>\n",
       "    <tr>\n",
       "      <th>0</th>\n",
       "      <td>Asan Medical Center</td>\n",
       "      <td>58</td>\n",
       "      <td>F</td>\n",
       "      <td>93.44</td>\n",
       "      <td>824405</td>\n",
       "    </tr>\n",
       "    <tr>\n",
       "      <th>1</th>\n",
       "      <td>Asan Medical Center</td>\n",
       "      <td>38</td>\n",
       "      <td>M</td>\n",
       "      <td>94.33</td>\n",
       "      <td>958960</td>\n",
       "    </tr>\n",
       "    <tr>\n",
       "      <th>2</th>\n",
       "      <td>Asan Medical Center</td>\n",
       "      <td>41</td>\n",
       "      <td>M</td>\n",
       "      <td>91.75</td>\n",
       "      <td>850956</td>\n",
       "    </tr>\n",
       "    <tr>\n",
       "      <th>3</th>\n",
       "      <td>Asan Medical Center</td>\n",
       "      <td>40</td>\n",
       "      <td>M</td>\n",
       "      <td>88.97</td>\n",
       "      <td>892098</td>\n",
       "    </tr>\n",
       "    <tr>\n",
       "      <th>4</th>\n",
       "      <td>Asan Medical Center</td>\n",
       "      <td>63</td>\n",
       "      <td>M</td>\n",
       "      <td>89.75</td>\n",
       "      <td>920822</td>\n",
       "    </tr>\n",
       "  </tbody>\n",
       "</table>\n",
       "</div>"
      ],
      "text/plain": [
       "              hospital  age sex  satisfaction_rate  estimated_expense\n",
       "0  Asan Medical Center   58   F              93.44             824405\n",
       "1  Asan Medical Center   38   M              94.33             958960\n",
       "2  Asan Medical Center   41   M              91.75             850956\n",
       "3  Asan Medical Center   40   M              88.97             892098\n",
       "4  Asan Medical Center   63   M              89.75             920822"
      ]
     },
     "execution_count": 19,
     "metadata": {},
     "output_type": "execute_result"
    }
   ],
   "source": [
    "import pandas as pd\n",
    "df = pd.read_csv(\"korean_hospital_data.csv\")\n",
    "df.head()"
   ]
  },
  {
   "cell_type": "markdown",
   "metadata": {},
   "source": [
    "### Comparative Study"
   ]
  },
  {
   "cell_type": "code",
   "execution_count": 17,
   "metadata": {},
   "outputs": [
    {
     "name": "stdout",
     "output_type": "stream",
     "text": [
      "For a 30-year-old M:\n",
      "Best by satisfaction: Samsung Medical Center\n",
      "Best by lowest cost: SNU Bundang Hospital\n"
     ]
    }
   ],
   "source": [
    "import pandas as pd\n",
    "import numpy as np\n",
    "from sklearn.ensemble import RandomForestRegressor\n",
    "from sklearn.preprocessing import LabelEncoder\n",
    "from sklearn.model_selection import train_test_split\n",
    "\n",
    "df = pd.read_csv(\"korean_hospital_data.csv\")\n",
    "df.columns = df.columns.str.strip() \n",
    "\n",
    "le_hospital = LabelEncoder()\n",
    "le_sex = LabelEncoder()\n",
    "df[\"hospital_encoded\"] = le_hospital.fit_transform(df[\"hospital\"])\n",
    "df[\"sex_encoded\"] = le_sex.fit_transform(df[\"sex\"])\n",
    "\n",
    "features = [\"hospital_encoded\", \"age\", \"sex_encoded\"]\n",
    "X = df[features]\n",
    "\n",
    "# Target: satisfaction\n",
    "y_satisfaction = df[\"satisfaction_rate\"]\n",
    "X_train_sat, X_test_sat, y_train_sat, y_test_sat = train_test_split(X, y_satisfaction, test_size=0.2, random_state=42)\n",
    "model_satisfaction = RandomForestRegressor(n_estimators=200, random_state=42)\n",
    "model_satisfaction.fit(X_train_sat, y_train_sat)\n",
    "\n",
    "# Target: estimated expense\n",
    "y_expense = df[\"estimated_expense\"]\n",
    "X_train_exp, X_test_exp, y_train_exp, y_test_exp = train_test_split(X, y_expense, test_size=0.2, random_state=42)\n",
    "model_expense = RandomForestRegressor(n_estimators=200, random_state=42)\n",
    "model_expense.fit(X_train_exp, y_train_exp)\n",
    "\n",
    "def recommend_hospitals(age, sex):\n",
    "    sex_encoded = le_sex.transform([sex])[0]\n",
    "    hospitals = range(len(le_hospital.classes_))\n",
    "    candidates = pd.DataFrame({\n",
    "        \"hospital_encoded\": hospitals,\n",
    "        \"age\": [age] * len(hospitals),\n",
    "        \"sex_encoded\": [sex_encoded] * len(hospitals)\n",
    "    })\n",
    "\n",
    "    satisfaction_preds = model_satisfaction.predict(candidates)\n",
    "    expense_preds = model_expense.predict(candidates)\n",
    "\n",
    "    best_satisfaction_idx = np.argmax(satisfaction_preds)\n",
    "    best_expense_idx = np.argmin(expense_preds)\n",
    "\n",
    "    return {\n",
    "        \"Best by satisfaction\": le_hospital.inverse_transform([best_satisfaction_idx])[0],\n",
    "        \"Best by lowest cost\": le_hospital.inverse_transform([best_expense_idx])[0]\n",
    "    }\n",
    "\n",
    "# Example\n",
    "age_input = 30\n",
    "sex_input = \"M\"\n",
    "result = recommend_hospitals(age_input, sex_input)\n",
    "print(f\"For a {age_input}-year-old {sex_input}:\")\n",
    "print(\"Best by satisfaction:\", result[\"Best by satisfaction\"])\n",
    "print(\"Best by lowest cost:\", result[\"Best by lowest cost\"])"
   ]
  }
 ],
 "metadata": {
  "kernelspec": {
   "display_name": "Python 3",
   "language": "python",
   "name": "python3"
  },
  "language_info": {
   "codemirror_mode": {
    "name": "ipython",
    "version": 3
   },
   "file_extension": ".py",
   "mimetype": "text/x-python",
   "name": "python",
   "nbconvert_exporter": "python",
   "pygments_lexer": "ipython3",
   "version": "3.9.6"
  }
 },
 "nbformat": 4,
 "nbformat_minor": 2
}
