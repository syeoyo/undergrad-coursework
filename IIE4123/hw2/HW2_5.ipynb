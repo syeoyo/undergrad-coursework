{
  "cells": [
    {
      "cell_type": "markdown",
      "id": "Jy6PoMvp9BUV",
      "metadata": {
        "id": "Jy6PoMvp9BUV"
      },
      "source": [
        "#### 1) 데이터 불러오기"
      ]
    },
    {
      "cell_type": "code",
      "execution_count": null,
      "id": "PS_4Tfb_9IEJ",
      "metadata": {
        "colab": {
          "base_uri": "https://localhost:8080/"
        },
        "id": "PS_4Tfb_9IEJ",
        "outputId": "f8b68838-02d5-4273-a73b-f6a99777dc6a"
      },
      "outputs": [
        {
          "output_type": "stream",
          "name": "stdout",
          "text": [
            "cuda\n"
          ]
        }
      ],
      "source": [
        "import os\n",
        "import cv2\n",
        "import numpy as np\n",
        "import random\n",
        "import torch\n",
        "\n",
        "# 시드(seed) 고정\n",
        "random_seed = 42\n",
        "torch.manual_seed(random_seed)\n",
        "np.random.seed(random_seed)\n",
        "random.seed(random_seed)\n",
        "torch.backends.cudnn.deterministic = True\n",
        "torch.backends.cudnn.benchmark = False\n",
        "\n",
        "device = torch.device('cuda' if torch.cuda.is_available() else 'cpu')\n",
        "print(device)"
      ]
    },
    {
      "cell_type": "code",
      "execution_count": null,
      "id": "BhiOYG5s_93W",
      "metadata": {
        "colab": {
          "base_uri": "https://localhost:8080/"
        },
        "id": "BhiOYG5s_93W",
        "outputId": "48ad694c-a47b-49eb-a706-52134852d11c"
      },
      "outputs": [
        {
          "output_type": "stream",
          "name": "stdout",
          "text": [
            "Drive already mounted at /content/drive; to attempt to forcibly remount, call drive.mount(\"/content/drive\", force_remount=True).\n"
          ]
        }
      ],
      "source": [
        "from google.colab import drive\n",
        "drive.mount('/content/drive')"
      ]
    },
    {
      "cell_type": "code",
      "execution_count": null,
      "id": "TBaGe3uKxTZe",
      "metadata": {
        "colab": {
          "base_uri": "https://localhost:8080/"
        },
        "id": "TBaGe3uKxTZe",
        "outputId": "c637a066-3128-4be9-ce25-836b8c1e83fb"
      },
      "outputs": [
        {
          "output_type": "stream",
          "name": "stdout",
          "text": [
            "/content/drive/.shortcut-targets-by-id/1mHTLf21YfzdDibqqXZ1lu9bkkHQt3uFy/Colab Notebooks/딥러닝과 응용/SourceCode_01_GD_ANN/Datasets\n"
          ]
        }
      ],
      "source": [
        "# %cd /content/drive/SharedDrive/Colab Notebooks/딥러닝과 응용/SourceCode_01_GD_ANN/Datasets\n",
        "%cd /content/drive/MyDrive/Colab Notebooks/딥러닝과 응용/SourceCode_01_GD_ANN/Datasets"
      ]
    },
    {
      "cell_type": "code",
      "execution_count": null,
      "id": "9a60bd8c",
      "metadata": {
        "id": "9a60bd8c"
      },
      "outputs": [],
      "source": [
        "# 하이퍼 파라미터 설정\n",
        "class Parameters():\n",
        "    def __init__(self):\n",
        "        self.description = 'ResNet for Image Classification'\n",
        "\n",
        "        # 에포크 수\n",
        "        self.epochs = 50\n",
        "        # 배치 크기\n",
        "        self.batch_size = 16\n",
        "        # 학습률\n",
        "        self.learning_rate = 1e-4 # 0.0001\n",
        "        # 훈련된 모델 경로\n",
        "        self.model_name = 'ResNet'\n",
        "        # 파일명\n",
        "        self.data_path = './Datasets/SEM'\n",
        "args = Parameters()"
      ]
    },
    {
      "cell_type": "code",
      "execution_count": null,
      "id": "iHrOx2wDBM_0",
      "metadata": {
        "id": "iHrOx2wDBM_0"
      },
      "outputs": [],
      "source": [
        "\n",
        "def load_dataset(groups_folder_path, categories):\n",
        "\n",
        "    Y = []\n",
        "    X = []\n",
        "\n",
        "    for idx, category in enumerate(categories):\n",
        "        label = idx  # 정수 레이블로 변경\n",
        "        image_dir = os.path.join(groups_folder_path, category)\n",
        "\n",
        "        file_list = os.listdir(image_dir)\n",
        "\n",
        "        for filename in file_list:\n",
        "            if filename.lower().endswith('.jpg'):\n",
        "                url = os.path.join(image_dir, filename)\n",
        "                img = cv2.imread(url)\n",
        "                if img is not None:  # 이미지를 성공적으로 읽었는지 확인\n",
        "                    X.append(img)\n",
        "                    Y.append(label)\n",
        "\n",
        "    return X, Y\n",
        "\n",
        "train_folder_path = os.path.join(args.data_path, 'Train')\n",
        "test_folder_path = os.path.join(args.data_path, 'Test')\n",
        "categories = ['SPOT', 'LSAC', 'RING']\n",
        "\n",
        "X, Y = load_dataset(train_folder_path, categories)\n",
        "x_test, y_test = load_dataset(test_folder_path, categories)"
      ]
    },
    {
      "cell_type": "code",
      "execution_count": null,
      "id": "73097494",
      "metadata": {
        "colab": {
          "base_uri": "https://localhost:8080/"
        },
        "id": "73097494",
        "outputId": "5f09f9a0-e8fe-4ba8-f628-e6e2c2a2a5d5"
      },
      "outputs": [
        {
          "output_type": "stream",
          "name": "stdout",
          "text": [
            "훈련 이미지 데이터 shape: (803, 224, 224, 3)\n",
            "훈련 레이블 데이터 shape: (803,)\n",
            "(array([0, 1, 2]), array([268, 267, 268]))\n",
            "\n",
            "테스트 이미지 데이터 shape: (303, 224, 224, 3)\n",
            "테스트 레이블 데이터 shape: (303,)\n",
            "(array([0, 1, 2]), array([101, 101, 101]))\n"
          ]
        }
      ],
      "source": [
        "X = np.array(X)\n",
        "Y = np.array(Y)\n",
        "x_test = np.array(x_test)\n",
        "y_test = np.array(y_test)\n",
        "\n",
        "print(f\"훈련 이미지 데이터 shape: {X.shape}\")\n",
        "print(f\"훈련 레이블 데이터 shape: {Y.shape}\")\n",
        "print(np.unique(Y, return_counts=True))\n",
        "\n",
        "print(f\"\\n테스트 이미지 데이터 shape: {x_test.shape}\")\n",
        "print(f\"테스트 레이블 데이터 shape: {y_test.shape}\")\n",
        "print(np.unique(y_test, return_counts=True))"
      ]
    },
    {
      "cell_type": "code",
      "execution_count": null,
      "id": "TDs49UU59IkY",
      "metadata": {
        "colab": {
          "base_uri": "https://localhost:8080/"
        },
        "id": "TDs49UU59IkY",
        "outputId": "44180897-1c19-4448-8864-b2e97768cb6f"
      },
      "outputs": [
        {
          "output_type": "stream",
          "name": "stdout",
          "text": [
            "x_train shape: (642, 224, 224, 3)\n",
            "y_train shape: (642,)\n",
            "x_valid shape: (161, 224, 224, 3)\n",
            "y_valid shape: (161,)\n",
            "x_test shape: (303, 224, 224, 3)\n",
            "y_test shape: (303,)\n"
          ]
        }
      ],
      "source": [
        "from sklearn.model_selection import train_test_split\n",
        "# 훈련 및 테스트 데이터 추출\n",
        "x_train, x_valid, y_train, y_valid = train_test_split(X, Y, test_size=0.2, random_state=0, stratify=Y)\n",
        "\n",
        "print(\"x_train shape:\", x_train.shape)\n",
        "print(\"y_train shape:\", y_train.shape)\n",
        "print(\"x_valid shape:\", x_valid.shape)\n",
        "print(\"y_valid shape:\", y_valid.shape)\n",
        "print(\"x_test shape:\", x_test.shape)\n",
        "print(\"y_test shape:\", y_test.shape)"
      ]
    },
    {
      "cell_type": "code",
      "execution_count": null,
      "id": "g_dxhBC59Ioo",
      "metadata": {
        "id": "g_dxhBC59Ioo"
      },
      "outputs": [],
      "source": [
        "from torchvision import transforms\n",
        "from torch.utils.data import Dataset, DataLoader\n",
        "\n",
        "# 데이터 증강 정의 (학습 데이터셋에만 적용)\n",
        "\n",
        "# transofrms.Normalize((R채널 평균, G채널 평균, B채널 평균), (R채널 표준편차, G채널 표준편차, B채널 표준편차))\n",
        "\n",
        "# 증강 확률의 기본값은 0.5\n",
        "train_transform = transforms.Compose([\n",
        "    transforms.ToPILImage(),\n",
        "    transforms.RandomVerticalFlip(), # 상하 반전\n",
        "    transforms.RandomHorizontalFlip(), # 좌우 반전\n",
        "    transforms.RandomRotation(90), #  (-degree, +degree) 사이만큼 회전\n",
        "    transforms.RandomGrayscale(), # 흑백화\n",
        "    transforms.ToTensor(), #  0 ~ 1 범위로 변환\n",
        "   # transforms.RandomErasing(),\n",
        "    transforms.Normalize((0.485, 0.456, 0.406), (0.229, 0.224, 0.225)) # ImageNet 데이터셋에 사용된 평균과 표준편차 사용\n",
        "])\n",
        "\n",
        "# 검증 및 테스트 데이터셋에는 증강 적용 안 함\n",
        "test_transform = transforms.Compose([\n",
        "    transforms.ToTensor(), #  0 ~ 1 범위로 변환\n",
        "    transforms.Normalize((0.485, 0.456, 0.406), (0.229, 0.224, 0.225)) # ImageNet 데이터셋에 사용된 평균과 표준편차 사용\n",
        "])\n",
        "\n",
        "class CustomDataset(Dataset):\n",
        "    def __init__(self, X, y, mode='train'):  # mode 인자 추가\n",
        "        self.X = X\n",
        "        self.y = torch.tensor(y, dtype=torch.long)\n",
        "        self.mode = mode  # mode 저장\n",
        "\n",
        "    def __len__(self):\n",
        "        return len(self.X)\n",
        "\n",
        "    def __getitem__(self, idx):\n",
        "        x = self.X[idx]\n",
        "        if self.mode == 'train':\n",
        "            x = train_transform(x)\n",
        "        else:  # 'valid' 또는 'test'\n",
        "            x = test_transform(x)\n",
        "        y = self.y[idx]\n",
        "        return x, y\n",
        "\n",
        "# Dataset 생성\n",
        "train_dataset = CustomDataset(x_train, y_train, mode='train')\n",
        "valid_dataset = CustomDataset(x_valid, y_valid, mode='valid')\n",
        "test_dataset = CustomDataset(x_test, y_test, mode='test')\n",
        "# DataLoader 정의\n",
        "\n",
        "train_loader = DataLoader(train_dataset, batch_size=args.batch_size, shuffle=True) # 학습 로더에서 나오는 데이터는 항상 섞어줍니다\n",
        "valid_loader = DataLoader(valid_dataset, batch_size=args.batch_size, shuffle=False) # 평가를 위해서 순차적으로 나오게 합니다\n",
        "test_loader = DataLoader(test_dataset, batch_size=args.batch_size, shuffle=False) # 평가를 위해서 순차적으로 나오게 합니다"
      ]
    },
    {
      "cell_type": "code",
      "execution_count": null,
      "id": "eabc30c7",
      "metadata": {
        "colab": {
          "base_uri": "https://localhost:8080/"
        },
        "id": "eabc30c7",
        "outputId": "fa604750-1e60-45b4-dabf-3a3563de8046"
      },
      "outputs": [
        {
          "output_type": "execute_result",
          "data": {
            "text/plain": [
              "torch.Size([3, 224, 224])"
            ]
          },
          "metadata": {},
          "execution_count": 174
        }
      ],
      "source": [
        "train_dataset[0][0].shape"
      ]
    },
    {
      "cell_type": "markdown",
      "id": "be9f96f8",
      "metadata": {
        "id": "be9f96f8"
      },
      "source": [
        "#### 2) Transfer Learning"
      ]
    },
    {
      "cell_type": "markdown",
      "id": "a6a7cbb4",
      "metadata": {
        "id": "a6a7cbb4"
      },
      "source": [
        "![alt text](https://raw.githubusercontent.com/dmlc/web-data/master/gluoncv/datasets/cifar10.png)"
      ]
    },
    {
      "cell_type": "markdown",
      "id": "b800e9fe",
      "metadata": {
        "id": "b800e9fe"
      },
      "source": [
        "* pretrain weight 사용\n",
        "* 이미지넷 데이터셋은 1,000개의 클래스로 구성되며 총 백만 개가 넘는 데이터를 포함\n",
        "* 학습 데이터셋 용량은 약 138GB, 검증 데이터셋 용량은 약 6GB"
      ]
    },
    {
      "cell_type": "markdown",
      "id": "eac02a20",
      "metadata": {
        "id": "eac02a20"
      },
      "source": [
        "#### 3) 모델 불러오기 (Resnet18)\n",
        "- fine tuning\n",
        "   - 사전 훈련된 가중치를 재학습\n",
        "   - 사전 훈련된 가중치를 학습하지 않고 마지막 classifer만 학습\n",
        "   - 사전 훈련된 가중치를 특정 레이어 이후만 학습"
      ]
    },
    {
      "cell_type": "code",
      "execution_count": null,
      "id": "13b5ef0a",
      "metadata": {
        "id": "13b5ef0a"
      },
      "outputs": [],
      "source": [
        "import torchvision.models as models # torchvision에서 제공하는 model zoo를 활용\n",
        "\n",
        "\"\"\"\n",
        "torchvision model zoo에서 제공하는 pretrained 가중치를 불러오는 인자 옵션에는 2가지가 있음\n",
        "(More information provided in https://pytorch.org/vision/stable/models.html)\n",
        "\n",
        "1) 기존 방식 -> pretrained = True로 지정하여 pretrained weight을 load하는 방법, False로 지정 시 random initialization (v0.15부터는 지원 중단)\n",
        "2) 현재 방식 -> weights 인자에 지정하는 방식으로, boolean type의 인자가 아니라 weights에 모델 버전을 상수 혹은 string 형태로 지정하는 방식임. None을 지정 시 random init\n",
        "\n",
        "\"\"\"\n",
        "\n",
        "\n",
        "model = models.resnet18(weights=models.ResNet18_Weights.DEFAULT).to(device)\n",
        "\n",
        "for param in model.parameters():\n",
        "    param.requires_grad = True\n",
        "\n",
        "# # layer4 이후로만 학습가능하게 할 수 있음\n",
        "# for name, _ in model.named_parameters():\n",
        "#    # print(name)\n",
        "#     if name.startswith('layer4'):  # layer4부터 학습 가능\n",
        "#         param.requires_grad = True"
      ]
    },
    {
      "cell_type": "code",
      "execution_count": null,
      "id": "a07d75ac",
      "metadata": {
        "colab": {
          "base_uri": "https://localhost:8080/"
        },
        "id": "a07d75ac",
        "outputId": "4c5fddef-69a7-462b-d4f3-edd43e947ad1"
      },
      "outputs": [
        {
          "output_type": "execute_result",
          "data": {
            "text/plain": [
              "Linear(in_features=512, out_features=1000, bias=True)"
            ]
          },
          "metadata": {},
          "execution_count": 176
        }
      ],
      "source": [
        "model.fc"
      ]
    },
    {
      "cell_type": "code",
      "execution_count": null,
      "id": "254e960a",
      "metadata": {
        "colab": {
          "base_uri": "https://localhost:8080/"
        },
        "id": "254e960a",
        "outputId": "e7015770-e972-4c65-cb35-716c4d0f3e34"
      },
      "outputs": [
        {
          "output_type": "execute_result",
          "data": {
            "text/plain": [
              "ResNet(\n",
              "  (conv1): Conv2d(3, 64, kernel_size=(7, 7), stride=(2, 2), padding=(3, 3), bias=False)\n",
              "  (bn1): BatchNorm2d(64, eps=1e-05, momentum=0.1, affine=True, track_running_stats=True)\n",
              "  (relu): ReLU(inplace=True)\n",
              "  (maxpool): MaxPool2d(kernel_size=3, stride=2, padding=1, dilation=1, ceil_mode=False)\n",
              "  (layer1): Sequential(\n",
              "    (0): BasicBlock(\n",
              "      (conv1): Conv2d(64, 64, kernel_size=(3, 3), stride=(1, 1), padding=(1, 1), bias=False)\n",
              "      (bn1): BatchNorm2d(64, eps=1e-05, momentum=0.1, affine=True, track_running_stats=True)\n",
              "      (relu): ReLU(inplace=True)\n",
              "      (conv2): Conv2d(64, 64, kernel_size=(3, 3), stride=(1, 1), padding=(1, 1), bias=False)\n",
              "      (bn2): BatchNorm2d(64, eps=1e-05, momentum=0.1, affine=True, track_running_stats=True)\n",
              "    )\n",
              "    (1): BasicBlock(\n",
              "      (conv1): Conv2d(64, 64, kernel_size=(3, 3), stride=(1, 1), padding=(1, 1), bias=False)\n",
              "      (bn1): BatchNorm2d(64, eps=1e-05, momentum=0.1, affine=True, track_running_stats=True)\n",
              "      (relu): ReLU(inplace=True)\n",
              "      (conv2): Conv2d(64, 64, kernel_size=(3, 3), stride=(1, 1), padding=(1, 1), bias=False)\n",
              "      (bn2): BatchNorm2d(64, eps=1e-05, momentum=0.1, affine=True, track_running_stats=True)\n",
              "    )\n",
              "  )\n",
              "  (layer2): Sequential(\n",
              "    (0): BasicBlock(\n",
              "      (conv1): Conv2d(64, 128, kernel_size=(3, 3), stride=(2, 2), padding=(1, 1), bias=False)\n",
              "      (bn1): BatchNorm2d(128, eps=1e-05, momentum=0.1, affine=True, track_running_stats=True)\n",
              "      (relu): ReLU(inplace=True)\n",
              "      (conv2): Conv2d(128, 128, kernel_size=(3, 3), stride=(1, 1), padding=(1, 1), bias=False)\n",
              "      (bn2): BatchNorm2d(128, eps=1e-05, momentum=0.1, affine=True, track_running_stats=True)\n",
              "      (downsample): Sequential(\n",
              "        (0): Conv2d(64, 128, kernel_size=(1, 1), stride=(2, 2), bias=False)\n",
              "        (1): BatchNorm2d(128, eps=1e-05, momentum=0.1, affine=True, track_running_stats=True)\n",
              "      )\n",
              "    )\n",
              "    (1): BasicBlock(\n",
              "      (conv1): Conv2d(128, 128, kernel_size=(3, 3), stride=(1, 1), padding=(1, 1), bias=False)\n",
              "      (bn1): BatchNorm2d(128, eps=1e-05, momentum=0.1, affine=True, track_running_stats=True)\n",
              "      (relu): ReLU(inplace=True)\n",
              "      (conv2): Conv2d(128, 128, kernel_size=(3, 3), stride=(1, 1), padding=(1, 1), bias=False)\n",
              "      (bn2): BatchNorm2d(128, eps=1e-05, momentum=0.1, affine=True, track_running_stats=True)\n",
              "    )\n",
              "  )\n",
              "  (layer3): Sequential(\n",
              "    (0): BasicBlock(\n",
              "      (conv1): Conv2d(128, 256, kernel_size=(3, 3), stride=(2, 2), padding=(1, 1), bias=False)\n",
              "      (bn1): BatchNorm2d(256, eps=1e-05, momentum=0.1, affine=True, track_running_stats=True)\n",
              "      (relu): ReLU(inplace=True)\n",
              "      (conv2): Conv2d(256, 256, kernel_size=(3, 3), stride=(1, 1), padding=(1, 1), bias=False)\n",
              "      (bn2): BatchNorm2d(256, eps=1e-05, momentum=0.1, affine=True, track_running_stats=True)\n",
              "      (downsample): Sequential(\n",
              "        (0): Conv2d(128, 256, kernel_size=(1, 1), stride=(2, 2), bias=False)\n",
              "        (1): BatchNorm2d(256, eps=1e-05, momentum=0.1, affine=True, track_running_stats=True)\n",
              "      )\n",
              "    )\n",
              "    (1): BasicBlock(\n",
              "      (conv1): Conv2d(256, 256, kernel_size=(3, 3), stride=(1, 1), padding=(1, 1), bias=False)\n",
              "      (bn1): BatchNorm2d(256, eps=1e-05, momentum=0.1, affine=True, track_running_stats=True)\n",
              "      (relu): ReLU(inplace=True)\n",
              "      (conv2): Conv2d(256, 256, kernel_size=(3, 3), stride=(1, 1), padding=(1, 1), bias=False)\n",
              "      (bn2): BatchNorm2d(256, eps=1e-05, momentum=0.1, affine=True, track_running_stats=True)\n",
              "    )\n",
              "  )\n",
              "  (layer4): Sequential(\n",
              "    (0): BasicBlock(\n",
              "      (conv1): Conv2d(256, 512, kernel_size=(3, 3), stride=(2, 2), padding=(1, 1), bias=False)\n",
              "      (bn1): BatchNorm2d(512, eps=1e-05, momentum=0.1, affine=True, track_running_stats=True)\n",
              "      (relu): ReLU(inplace=True)\n",
              "      (conv2): Conv2d(512, 512, kernel_size=(3, 3), stride=(1, 1), padding=(1, 1), bias=False)\n",
              "      (bn2): BatchNorm2d(512, eps=1e-05, momentum=0.1, affine=True, track_running_stats=True)\n",
              "      (downsample): Sequential(\n",
              "        (0): Conv2d(256, 512, kernel_size=(1, 1), stride=(2, 2), bias=False)\n",
              "        (1): BatchNorm2d(512, eps=1e-05, momentum=0.1, affine=True, track_running_stats=True)\n",
              "      )\n",
              "    )\n",
              "    (1): BasicBlock(\n",
              "      (conv1): Conv2d(512, 512, kernel_size=(3, 3), stride=(1, 1), padding=(1, 1), bias=False)\n",
              "      (bn1): BatchNorm2d(512, eps=1e-05, momentum=0.1, affine=True, track_running_stats=True)\n",
              "      (relu): ReLU(inplace=True)\n",
              "      (conv2): Conv2d(512, 512, kernel_size=(3, 3), stride=(1, 1), padding=(1, 1), bias=False)\n",
              "      (bn2): BatchNorm2d(512, eps=1e-05, momentum=0.1, affine=True, track_running_stats=True)\n",
              "    )\n",
              "  )\n",
              "  (avgpool): AdaptiveAvgPool2d(output_size=(1, 1))\n",
              "  (fc): Linear(in_features=512, out_features=1000, bias=True)\n",
              ")"
            ]
          },
          "metadata": {},
          "execution_count": 177
        }
      ],
      "source": [
        "model"
      ]
    },
    {
      "cell_type": "code",
      "execution_count": null,
      "id": "f5101e50",
      "metadata": {
        "id": "f5101e50"
      },
      "outputs": [],
      "source": [
        "import torch.nn as nn\n",
        "# 분류할 클래스 수로 변경\n",
        "model.fc = nn.Linear(512, 3).to(device)"
      ]
    },
    {
      "cell_type": "markdown",
      "id": "6dea9ce5",
      "metadata": {
        "id": "6dea9ce5"
      },
      "source": [
        "#### 3) 학습"
      ]
    },
    {
      "cell_type": "code",
      "execution_count": null,
      "id": "9MQsTiXjyi3V",
      "metadata": {
        "id": "9MQsTiXjyi3V"
      },
      "outputs": [],
      "source": [
        "import torch\n",
        "\n",
        "\n",
        "def train(model, train_loader, optimizer, criterion, device):\n",
        "\n",
        "    # 모델을 학습 모드로 설정\n",
        "    model.train()\n",
        "    # loss 누적값 초기화\n",
        "    running_loss = 0.0\n",
        "    correct_preds = 0\n",
        "    total_samples = 0\n",
        "    all_preds = []\n",
        "    all_labels = []\n",
        "\n",
        "    for inputs, labels in train_loader: # 로더에서 배치 사이즈만큼 데이터와 레이블 랜덤 추출\n",
        "        inputs, labels = inputs.to(device), labels.to(device) # device로 옮기기\n",
        "\n",
        "        # 기울기 초기화\n",
        "        optimizer.zero_grad()\n",
        "\n",
        "        outputs = model(inputs) # 모델에 인풋데이터 입력하여 아웃풋 추출\n",
        "\n",
        "        loss = criterion(outputs, labels) # 아웃풋과 레이블과의 loss 계산\n",
        "\n",
        "        loss.backward() # 파라미터에 대한 loss 기울기 계산\n",
        "        optimizer.step() # 파라미터 업데이트\n",
        "\n",
        "        # loss 누적\n",
        "        running_loss += loss.item() * inputs.size(0)\n",
        "\n",
        "        _, predicted = torch.max(outputs, 1)\n",
        "        correct_preds += (predicted == labels).sum().item()\n",
        "\n",
        "    avg_loss = running_loss / len(train_loader.dataset)\n",
        "    accuracy = correct_preds / len(train_loader.dataset)\n",
        "\n",
        "    return avg_loss, accuracy\n",
        "\n",
        "# 평가 함수 정의\n",
        "def evaluate(model, loader, criterion, device):\n",
        "    # 모델을 평가 모드로 설정\n",
        "    model.eval()\n",
        "    running_loss = 0.0\n",
        "\n",
        "    # 정확하게 예측된 샘플 수를 초기화\n",
        "    correct_preds = 0\n",
        "    # 모든 예측과 실제 레이블을 저장할 리스트를 초기화\n",
        "    all_preds = []\n",
        "    all_labels = []\n",
        "\n",
        "    # 기울기를 계산하지 않도록 torch.no_grad() 내에서 연산 수행\n",
        "    with torch.no_grad():\n",
        "        for inputs, labels in loader:\n",
        "            inputs, labels = inputs.to(device), labels.to(device)\n",
        "\n",
        "            outputs = model(inputs)\n",
        "            loss = criterion(outputs, labels)\n",
        "            running_loss += loss.item() * inputs.size(0)\n",
        "\n",
        "            # 예측된 클래스를 가져와 정확하게 예측된 샘플 수를 누적\n",
        "            _, predicted = torch.max(outputs, 1)\n",
        "            correct_preds += torch.sum(predicted == labels).item()\n",
        "\n",
        "            # 예측 결과와 실제 레이블을 리스트에 추가\n",
        "            all_preds.extend(predicted.cpu().numpy())\n",
        "            all_labels.extend(labels.cpu().numpy())\n",
        "    # 전체 데이터셋에 대한 평균 손실을 계산\n",
        "    avg_loss = running_loss / len(loader.dataset)\n",
        "    # 정확도를 계산\n",
        "    accuracy = correct_preds / len(loader.dataset)\n",
        "    # 평균 손실, 정확도, 예측된 값들, 실제 레이블들을 반환\n",
        "    return avg_loss, accuracy, all_preds, all_labels"
      ]
    },
    {
      "cell_type": "code",
      "execution_count": null,
      "id": "LpZwtwKpylgq",
      "metadata": {
        "id": "LpZwtwKpylgq"
      },
      "outputs": [],
      "source": [
        "class EarlyStopping:\n",
        "    \"\"\"\n",
        "    조기 종료(Early Stopping) 클래스: 특정 에폭 동안 손실(loss)이 개선되지 않으면 훈련 중단\n",
        "    \"\"\"\n",
        "\n",
        "    def __init__(self, patience=3, min_delta=0):\n",
        "        \"\"\"\n",
        "        초기화 함수: patience, min_delta 값을 설정하고 카운터, best_loss를 초기화\n",
        "\n",
        "        min_delta (float): 새로운 손실이 이전 손실보다 개선되었다고 간주하기 위한 최소 차이\n",
        "        \"\"\"\n",
        "        self.patience = patience\n",
        "        self.min_delta = min_delta\n",
        "        self.counter = 0\n",
        "        self.best_loss = None\n",
        "\n",
        "    def __call__(self, val_loss):\n",
        "        \"\"\"\n",
        "         검증 손실(val_loss)을 받아 조기 종료 여부를 결정\n",
        "\n",
        "        Returns:\n",
        "            bool: 조기 종료해야 하는 경우 True, 계속 훈련해야 하는 경우 False\n",
        "        \"\"\"\n",
        "        if self.best_loss is None:  # 첫 번째 에폭인 경우 best_loss 설정\n",
        "            self.best_loss = val_loss\n",
        "\n",
        "        elif self.best_loss - val_loss > self.min_delta:  # 손실이 충분히 개선된 경우\n",
        "            self.best_loss = val_loss\n",
        "            self.counter = 0  # 카운터 초기화\n",
        "\n",
        "        else:  # 손실이 개선되지 않은 경우\n",
        "            self.counter += 1\n",
        "\n",
        "            if self.counter >= self.patience:  # patience 만큼 손실이 개선되지 않으면\n",
        "                print(\"[INFO] Early stopping\")  # 조기 종료 메시지 출력\n",
        "                return True  # 조기 종료 신호 반환\n",
        "\n",
        "        return False  # 계속 훈련 신호 반환"
      ]
    },
    {
      "cell_type": "code",
      "execution_count": null,
      "id": "UlXougopynUs",
      "metadata": {
        "id": "UlXougopynUs"
      },
      "outputs": [],
      "source": [
        "import torch\n",
        "\n",
        "class LRScheduler():\n",
        "    \"\"\"\n",
        "    학습률 스케줄러. 주어진 `patience` 에포크 동안 검증 손실이 감소하지 않으면\n",
        "    학습률을 주어진 `factor`만큼 감소.\n",
        "    \"\"\"\n",
        "    def __init__(self, optimizer, patience=5, min_lr=1e-6, factor=0.5, verbose=True):\n",
        "        \"\"\"\n",
        "        new_lr = old_lr * factor\n",
        "        :param optimizer: 사용할 옵티마이저\n",
        "        :param patience: 학습률을 업데이트하기 전에 기다릴 에포크 수\n",
        "        :param min_lr: 학습률이 감소할 수 있는 최소 값\n",
        "        :param factor: 학습률을 감소시킬 비율\n",
        "        :param verbose: 학습률이 조정될 때 메시지를 출력할지 여부\n",
        "        \"\"\"\n",
        "        self.optimizer = optimizer\n",
        "        self.patience = patience\n",
        "        self.min_lr = min_lr\n",
        "        self.factor = factor\n",
        "        self.verbose = verbose\n",
        "\n",
        "        # ReduceLROnPlateau 스케줄러 사용\n",
        "        self.lr_scheduler = torch.optim.lr_scheduler.ReduceLROnPlateau(\n",
        "            self.optimizer,\n",
        "            mode='min',\n",
        "            patience=self.patience,\n",
        "            factor=self.factor,\n",
        "            min_lr=self.min_lr,\n",
        "            verbose=self.verbose\n",
        "        )\n",
        "\n",
        "    def __call__(self, val_loss):\n",
        "        \"\"\"\n",
        "        검증 손실을 기준으로 학습률을 조정합니다.\n",
        "        :param val_loss: 현재 검증 손실 값\n",
        "        \"\"\"\n",
        "        self.lr_scheduler.step(val_loss)"
      ]
    },
    {
      "cell_type": "code",
      "execution_count": null,
      "id": "zhtY8snq9IqX",
      "metadata": {
        "colab": {
          "base_uri": "https://localhost:8080/"
        },
        "id": "zhtY8snq9IqX",
        "outputId": "4eb0a5e8-4301-4b11-c9ce-200988e460d5"
      },
      "outputs": [
        {
          "output_type": "stream",
          "name": "stderr",
          "text": [
            "/usr/local/lib/python3.10/dist-packages/torch/optim/lr_scheduler.py:62: UserWarning: The verbose parameter is deprecated. Please use get_last_lr() to access the learning rate.\n",
            "  warnings.warn(\n"
          ]
        }
      ],
      "source": [
        "# from utils.EarlyStopping      import *\n",
        "# from utils.LRScheduler        import *\n",
        "# from utils.train_eval_util import train, evaluate\n",
        "\n",
        "\n",
        "criterion = nn.CrossEntropyLoss()\n",
        "\n",
        "optimizer = torch.optim.Adam(params = model.parameters(),\n",
        "                             lr     = args.learning_rate)\n",
        "\n",
        "\n",
        "early_stopping = EarlyStopping(patience  = 7,\n",
        "                               min_delta = 1e-5)\n",
        "\n",
        "\n",
        "scheduler = LRScheduler(optimizer = optimizer,\n",
        "                        patience  = 5,\n",
        "                        min_lr    = 1e-10,\n",
        "                        factor    = 0.5)"
      ]
    },
    {
      "cell_type": "code",
      "execution_count": null,
      "id": "JAfhE3_a9IsA",
      "metadata": {
        "colab": {
          "base_uri": "https://localhost:8080/"
        },
        "id": "JAfhE3_a9IsA",
        "outputId": "db181eb5-f20c-4202-f99f-7456ff3027d5"
      },
      "outputs": [
        {
          "output_type": "stream",
          "name": "stdout",
          "text": [
            "Epoch [1/50], Train Loss: 0.5130, Train Acc: 0.8084, Valid Loss: 0.2530, Valid Acc: 0.9193\n",
            "Epoch [2/50], Train Loss: 0.2926, Train Acc: 0.8910, Valid Loss: 0.2521, Valid Acc: 0.8696\n",
            "Epoch [3/50], Train Loss: 0.2603, Train Acc: 0.9050, Valid Loss: 0.1817, Valid Acc: 0.9255\n",
            "Epoch [4/50], Train Loss: 0.2615, Train Acc: 0.9019, Valid Loss: 0.3182, Valid Acc: 0.8634\n",
            "Epoch [5/50], Train Loss: 0.2320, Train Acc: 0.9159, Valid Loss: 0.2138, Valid Acc: 0.9006\n",
            "Epoch [6/50], Train Loss: 0.2573, Train Acc: 0.8941, Valid Loss: 0.1297, Valid Acc: 0.9441\n",
            "Epoch [7/50], Train Loss: 0.1871, Train Acc: 0.9252, Valid Loss: 0.2210, Valid Acc: 0.9193\n",
            "Epoch [8/50], Train Loss: 0.2320, Train Acc: 0.9097, Valid Loss: 0.1463, Valid Acc: 0.9317\n",
            "Epoch [9/50], Train Loss: 0.1800, Train Acc: 0.9190, Valid Loss: 0.1733, Valid Acc: 0.9255\n",
            "Epoch [10/50], Train Loss: 0.1889, Train Acc: 0.9252, Valid Loss: 0.1468, Valid Acc: 0.9379\n",
            "Epoch [11/50], Train Loss: 0.1911, Train Acc: 0.9361, Valid Loss: 0.1523, Valid Acc: 0.9255\n",
            "Epoch [12/50], Train Loss: 0.1254, Train Acc: 0.9517, Valid Loss: 0.1451, Valid Acc: 0.9441\n",
            "Epoch [13/50], Train Loss: 0.1381, Train Acc: 0.9470, Valid Loss: 0.1774, Valid Acc: 0.9193\n",
            "[INFO] Early stopping\n"
          ]
        }
      ],
      "source": [
        "best_valid_loss = float('inf')\n",
        "\n",
        "# 학습률 스케줄러 정의\n",
        "train_losses = []\n",
        "valid_losses = []\n",
        "\n",
        "for epoch in range(args.epochs):\n",
        "    train_loss, train_acc = train(model, train_loader, optimizer, criterion, device)\n",
        "    valid_loss, valid_acc, _, _ = evaluate(model, valid_loader, criterion, device)\n",
        "    train_losses.append(train_loss)\n",
        "    valid_losses.append(valid_loss)\n",
        "    print(f\"Epoch [{epoch+1}/{args.epochs}], Train Loss: {train_loss:.4f}, Train Acc: {train_acc:.4f}, Valid Loss: {valid_loss:.4f}, Valid Acc: {valid_acc:.4f}\")\n",
        "\n",
        "    scheduler(valid_loss)\n",
        "\n",
        "    if (early_stopping(valid_loss)):\n",
        "        break\n",
        "\n",
        "    if valid_loss < best_valid_loss:\n",
        "        best_valid_loss = valid_loss\n",
        "        epochs_no_improve = 0\n",
        "        torch.save(model.state_dict(), \"./\" + args.model_name + \".pth\")"
      ]
    },
    {
      "cell_type": "code",
      "execution_count": null,
      "id": "96DsQnPm9Iu0",
      "metadata": {
        "colab": {
          "base_uri": "https://localhost:8080/"
        },
        "id": "96DsQnPm9Iu0",
        "outputId": "17e90a98-dbfd-4a21-c517-37c5d0eb2548"
      },
      "outputs": [
        {
          "output_type": "stream",
          "name": "stderr",
          "text": [
            "<ipython-input-184-76b788a65239>:7: FutureWarning: You are using `torch.load` with `weights_only=False` (the current default value), which uses the default pickle module implicitly. It is possible to construct malicious pickle data which will execute arbitrary code during unpickling (See https://github.com/pytorch/pytorch/blob/main/SECURITY.md#untrusted-models for more details). In a future release, the default value for `weights_only` will be flipped to `True`. This limits the functions that could be executed during unpickling. Arbitrary objects will no longer be allowed to be loaded via this mode unless they are explicitly allowlisted by the user via `torch.serialization.add_safe_globals`. We recommend you start setting `weights_only=True` for any use case where you don't have full control of the loaded file. Please open an issue on GitHub for any issues related to this experimental feature.\n",
            "  model.load_state_dict( torch.load( \"./\" + args.model_name + \".pth\" ) )\n"
          ]
        },
        {
          "output_type": "stream",
          "name": "stdout",
          "text": [
            "Test Loss: 0.2371, Test Acc: 0.9241\n"
          ]
        }
      ],
      "source": [
        "# 저장된 모델 로드\n",
        "import torchvision.models as models\n",
        "\n",
        "\n",
        "model = models.resnet18().to(device)\n",
        "model.fc = nn.Linear(512, 3).to(device)\n",
        "model.load_state_dict( torch.load( \"./\" + args.model_name + \".pth\" ) )\n",
        "\n",
        "# 테스트 세트 평가\n",
        "test_loss, test_acc, test_preds, test_labels = evaluate(model, test_loader, criterion, device)\n",
        "print(f\"Test Loss: {test_loss:.4f}, Test Acc: {test_acc:.4f}\")"
      ]
    },
    {
      "cell_type": "code",
      "execution_count": null,
      "id": "789ad661",
      "metadata": {
        "colab": {
          "base_uri": "https://localhost:8080/",
          "height": 564
        },
        "id": "789ad661",
        "outputId": "6b49b5ed-3d19-4975-991c-15233d534fd5"
      },
      "outputs": [
        {
          "output_type": "display_data",
          "data": {
            "text/plain": [
              "<Figure size 1000x600 with 1 Axes>"
            ],
            "image/png": "[encoded data removed]"
          },
          "metadata": {}
        }
      ],
      "source": [
        "import matplotlib.pyplot as plt\n",
        "\n",
        "# Train vs Validation Loss 그래프\n",
        "plt.figure(figsize=(10, 6))\n",
        "plt.plot(range(1, len(train_losses) + 1), train_losses, label='Train Loss')\n",
        "plt.plot(range(1, len(valid_losses) + 1), valid_losses, label='Validation Loss')\n",
        "plt.xlabel('Epochs')\n",
        "plt.ylabel('Loss')\n",
        "plt.title('Training and Validation Loss')\n",
        "plt.legend()\n",
        "plt.show()"
      ]
    },
    {
      "cell_type": "code",
      "execution_count": null,
      "id": "uIfT5BjT9HtQ",
      "metadata": {
        "colab": {
          "base_uri": "https://localhost:8080/",
          "height": 564
        },
        "id": "uIfT5BjT9HtQ",
        "outputId": "014dd511-7d18-48fb-9468-c61c864ff0e1"
      },
      "outputs": [
        {
          "output_type": "display_data",
          "data": {
            "text/plain": [
              "<Figure size 800x600 with 1 Axes>"
            ],
            "image/png": "[encoded data removed]"
          },
          "metadata": {}
        }
      ],
      "source": [
        "import seaborn as sns\n",
        "from sklearn.metrics import confusion_matrix\n",
        "\n",
        "# Confusion Matrix 계산\n",
        "conf_matrix = confusion_matrix(test_labels, test_preds)\n",
        "# Confusion Matrix 그리기\n",
        "plt.figure(figsize=(8, 6))\n",
        "sns.heatmap(conf_matrix, annot=True, cmap=\"Blues\", fmt=\"d\", cbar=False,\n",
        "            xticklabels=np.unique(y_test), yticklabels=np.unique(y_test))\n",
        "plt.xlabel('Predicted Labels')\n",
        "plt.ylabel('True Labels')\n",
        "plt.title('Confusion Matrix')\n",
        "plt.show()\n",
        "\n"
      ]
    },
    {
      "cell_type": "code",
      "execution_count": null,
      "id": "b7cad8f4",
      "metadata": {
        "id": "b7cad8f4"
      },
      "outputs": [],
      "source": [
        "# Grad-CAM 설치\n",
        "# !pip install grad-cam"
      ]
    },
    {
      "cell_type": "code",
      "execution_count": null,
      "id": "56a0ec69",
      "metadata": {
        "colab": {
          "base_uri": "https://localhost:8080/",
          "height": 397
        },
        "id": "56a0ec69",
        "outputId": "fc6f5036-b5a2-4120-a88e-37858289a52f"
      },
      "outputs": [
        {
          "output_type": "error",
          "ename": "ModuleNotFoundError",
          "evalue": "No module named 'pytorch_grad_cam'",
          "traceback": [
            "\u001b[0;31m---------------------------------------------------------------------------\u001b[0m",
            "\u001b[0;31mModuleNotFoundError\u001b[0m                       Traceback (most recent call last)",
            "\u001b[0;32m<ipython-input-188-5b613c00d836>\u001b[0m in \u001b[0;36m<cell line: 2>\u001b[0;34m()\u001b[0m\n\u001b[1;32m      1\u001b[0m \u001b[0;32mimport\u001b[0m \u001b[0mmath\u001b[0m\u001b[0;34m\u001b[0m\u001b[0;34m\u001b[0m\u001b[0m\n\u001b[0;32m----> 2\u001b[0;31m \u001b[0;32mfrom\u001b[0m \u001b[0mpytorch_grad_cam\u001b[0m \u001b[0;32mimport\u001b[0m \u001b[0mGradCAM\u001b[0m\u001b[0;34m,\u001b[0m \u001b[0mEigenCAM\u001b[0m\u001b[0;34m\u001b[0m\u001b[0;34m\u001b[0m\u001b[0m\n\u001b[0m\u001b[1;32m      3\u001b[0m \u001b[0;32mfrom\u001b[0m \u001b[0mpytorch_grad_cam\u001b[0m\u001b[0;34m.\u001b[0m\u001b[0mutils\u001b[0m\u001b[0;34m.\u001b[0m\u001b[0mmodel_targets\u001b[0m \u001b[0;32mimport\u001b[0m \u001b[0mClassifierOutputTarget\u001b[0m\u001b[0;34m\u001b[0m\u001b[0;34m\u001b[0m\u001b[0m\n\u001b[1;32m      4\u001b[0m \u001b[0;32mfrom\u001b[0m \u001b[0mpytorch_grad_cam\u001b[0m\u001b[0;34m.\u001b[0m\u001b[0mutils\u001b[0m\u001b[0;34m.\u001b[0m\u001b[0mimage\u001b[0m \u001b[0;32mimport\u001b[0m \u001b[0mshow_cam_on_image\u001b[0m\u001b[0;34m\u001b[0m\u001b[0;34m\u001b[0m\u001b[0m\n\u001b[1;32m      5\u001b[0m \u001b[0;34m\u001b[0m\u001b[0m\n",
            "\u001b[0;31mModuleNotFoundError\u001b[0m: No module named 'pytorch_grad_cam'",
            "",
            "\u001b[0;31m---------------------------------------------------------------------------\u001b[0;32m\nNOTE: If your import is failing due to a missing package, you can\nmanually install dependencies using either !pip or !apt.\n\nTo view examples of installing some common dependencies, click the\n\"Open Examples\" button below.\n\u001b[0;31m---------------------------------------------------------------------------\u001b[0m\n"
          ],
          "errorDetails": {
            "actions": [
              {
                "action": "open_url",
                "actionText": "Open Examples",
                "url": "/notebooks/snippets/importing_libraries.ipynb"
              }
            ]
          }
        }
      ],
      "source": [
        "import math\n",
        "from pytorch_grad_cam import GradCAM, EigenCAM\n",
        "from pytorch_grad_cam.utils.model_targets import ClassifierOutputTarget\n",
        "from pytorch_grad_cam.utils.image import show_cam_on_image\n",
        "\n",
        "\n",
        "def apply_gradcam(model, images, targets, cam_algorithm):\n",
        "    # GradCAM을 적용하여 CAM을 얻는 함수\n",
        "    grayscale_cams = cam_algorithm(input_tensor=images, targets=targets)\n",
        "    return grayscale_cams\n",
        "\n",
        "# DataLoader에서 이미지와 레이블을 추출\n",
        "images_list = []\n",
        "labels_list = []\n",
        "predictions_list = []\n",
        "\n",
        "for i, (images, labels) in enumerate(test_loader):\n",
        "    images_list.append(images)\n",
        "    labels_list.append(labels)\n",
        "\n",
        "    with torch.no_grad():\n",
        "        outputs = model(images.to(device))\n",
        "        _, predicted = torch.max(outputs, 1)\n",
        "        predictions_list.append(predicted)\n",
        "\n",
        "# 모델을 평가 모드로 설정\n",
        "model.eval()\n",
        "target_layers = [model.layer4[-1]]\n",
        "cam = EigenCAM(model=model, target_layers=target_layers)\n",
        "\n",
        "# 리스트 평탄화\n",
        "images_list = torch.cat(images_list)\n",
        "labels_list = torch.cat(labels_list)\n",
        "predictions_list = torch.cat(predictions_list)\n",
        "\n",
        "# 표시할 이미지 수\n",
        "num_images = 10 # 전체는 images_list.size(0)\n",
        "num_cols = 5\n",
        "num_rows = math.ceil(num_images / num_cols)\n",
        "\n",
        "fig, axes = plt.subplots(num_rows, num_cols, figsize=(num_cols * 6, num_rows * 6))\n",
        "axes = axes.flatten()\n",
        "\n",
        "# 미리 추출한 이미지, 레이블, 예측을 반복합니다.\n",
        "for idx in range(num_images):\n",
        "    images = images_list[idx].unsqueeze(0)\n",
        "    labels = labels_list[idx]\n",
        "    predicted = predictions_list[idx]\n",
        "\n",
        "    # 현재 이미지의 예측 레이블 입력\n",
        "    targets = [ClassifierOutputTarget(predicted.item())]\n",
        "\n",
        "    # GradCAM을 적용\n",
        "    grayscale_cam = apply_gradcam(model, images, targets, cam)\n",
        "    grayscale_cam = grayscale_cam[0, :]  # 배치 차원 제거\n",
        "\n",
        "    # 이미지를 원래 형태로 변환\n",
        "    image_denormalized = images_list[idx] * torch.tensor([0.229, 0.224, 0.225]).view(3, 1, 1) + torch.tensor([0.485, 0.456, 0.406]).view(3, 1, 1)\n",
        "    rgb_img = image_denormalized.permute(1, 2, 0).numpy()  # (C, H, W) -> (H, W, C)\n",
        "\n",
        "    # 결과 시각화\n",
        "    visualization = show_cam_on_image(rgb_img, grayscale_cam, use_rgb=False)\n",
        "\n",
        "    ax = axes[idx]\n",
        "    ax.imshow(visualization)\n",
        "    true_label_name = categories[labels.item()]\n",
        "    predicted_label_name = categories[predicted.item()]\n",
        "    ax.set_title(f\"True: {true_label_name} Pred: {predicted_label_name}\", fontsize=20)\n",
        "    ax.axis('off')\n",
        "\n",
        "for idx in range(num_images, len(axes)):\n",
        "    axes[idx].axis('off')\n",
        "\n",
        "plt.tight_layout()\n",
        "plt.show()"
      ]
    }
  ],
  "metadata": {
    "accelerator": "GPU",
    "colab": {
      "gpuType": "T4",
      "machine_shape": "hm",
      "provenance": []
    },
    "kernelspec": {
      "display_name": "Python 3",
      "name": "python3"
    },
    "language_info": {
      "codemirror_mode": {
        "name": "ipython",
        "version": 3
      },
      "file_extension": ".py",
      "mimetype": "text/x-python",
      "name": "python",
      "nbconvert_exporter": "python",
      "pygments_lexer": "ipython3",
      "version": "3.8.19"
    }
  },
  "nbformat": 4,
  "nbformat_minor": 5
}