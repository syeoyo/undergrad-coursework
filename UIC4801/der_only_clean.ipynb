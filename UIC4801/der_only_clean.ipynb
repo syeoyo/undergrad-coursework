{
 "cells": [
  {
   "cell_type": "code",
   "execution_count": 142,
   "metadata": {},
   "outputs": [],
   "source": [
    "import pandas as pd\n",
    "import numpy as np\n",
    "import cvxpy as cp\n",
    "import matplotlib.pyplot as plt"
   ]
  },
  {
   "cell_type": "markdown",
   "metadata": {},
   "source": [
    "### 데이터 로드 (q: 15분 단위, h: 1시간 단위)"
   ]
  },
  {
   "cell_type": "code",
   "execution_count": 143,
   "metadata": {},
   "outputs": [],
   "source": [
    "generation_q = pd.read_csv(\"C:/Users/symply_jina/Desktop/seohyun/UIC4801/DATA_generation.csv\")\n",
    "generation_q['Time'] = pd.to_datetime(generation_q['Time'], format='%Y-%m-%d %H:%M')\n",
    "generation_q['Hour'] = generation_q['Time'].dt.floor('H') \n",
    "generation_h = generation_q.groupby('Hour').sum(numeric_only=True)  \n",
    "\n",
    "demand_q = pd.read_csv(\"C:/Users/symply_jina/Desktop/seohyun/UIC4801/DATA_demand.csv\")\n",
    "demand_q['Time'] = pd.to_datetime(demand_q['Time'], format='%Y-%m-%d %H:%M')\n",
    "demand_q['Hour'] = demand_q['Time'].dt.floor('H')   \n",
    "demand_h = demand_q.groupby('Hour').sum(numeric_only=True)  \n",
    "\n",
    "price_q = pd.read_csv(\"C:/Users/symply_jina/Desktop/seohyun/UIC4801/DATA_price.csv\")\n",
    "price_q['Time'] = pd.to_datetime(price_q['Time'], format='%Y-%m-%d %H:%M')"
   ]
  },
  {
   "cell_type": "markdown",
   "metadata": {},
   "source": [
    "### Set"
   ]
  },
  {
   "cell_type": "code",
   "execution_count": 144,
   "metadata": {},
   "outputs": [],
   "source": [
    "I = list(range(len(generation_q.columns) - 2))\n",
    "T = list(generation_q['Time'].dt.hour.unique())\n",
    "S = list(range(50))\n",
    "prob = {s: 1 / len(S) for s in S}"
   ]
  },
  {
   "cell_type": "markdown",
   "metadata": {},
   "source": [
    "### 데이터 전처리"
   ]
  },
  {
   "cell_type": "markdown",
   "metadata": {},
   "source": [
    "#### Generation"
   ]
  },
  {
   "cell_type": "code",
   "execution_count": 145,
   "metadata": {},
   "outputs": [],
   "source": [
    "generation_avg = {\n",
    "    (i, t): generation_h[generation_h.index.hour == t].mean()[i] for i in I for t in T\n",
    "}\n",
    "\n",
    "def generate_randomized_generation(I, T, S, generation_avg, randomness_level):\n",
    "    np.random.seed(7)\n",
    "    if randomness_level == 'low':\n",
    "        noise_factors = {(i, t, s): np.random.uniform(0.8, 1.2) for i in I for t in T for s in S}\n",
    "    elif randomness_level == 'medium':\n",
    "        noise_factors = {(i, t, s): np.random.uniform(0.5, 1.5) for i in I for t in T for s in S}\n",
    "    elif randomness_level == 'high':\n",
    "        noise_factors = {(i, t, s): np.random.uniform(0.2, 1.8) for i in I for t in T for s in S}\n",
    "    else:\n",
    "        raise ValueError(\"Invalid randomness level. Please choose 'low', 'medium', or 'high'.\")\n",
    "    \n",
    "    generation_r = {\n",
    "        (i, t, s): generation_avg[(i, t)]*noise_factors[(i, t, s)] for i in I for t in T for s in S\n",
    "    }\n",
    "    return generation_r"
   ]
  },
  {
   "cell_type": "markdown",
   "metadata": {},
   "source": [
    "#### Demand"
   ]
  },
  {
   "cell_type": "code",
   "execution_count": 146,
   "metadata": {},
   "outputs": [],
   "source": [
    "demand_avg = {\n",
    "    (i, t): demand_h[demand_h.index.hour == t].mean()[i] for i in I for t in T\n",
    "}\n",
    "\n",
    "def generate_randomized_demand(I, T, S, demand_avg, randomness_level):\n",
    "    np.random.seed(17)\n",
    "    if randomness_level == 'low':\n",
    "        noise_factors = {(i, t, s): np.random.uniform(0.8, 1.2) for i in I for t in T for s in S}\n",
    "    elif randomness_level == 'medium':\n",
    "        noise_factors = {(i, t, s): np.random.uniform(0.5, 1.5) for i in I for t in T for s in S}\n",
    "    elif randomness_level == 'high':\n",
    "        noise_factors = {(i, t, s): np.random.uniform(0.2, 1.8) for i in I for t in T for s in S}\n",
    "    else:\n",
    "        raise ValueError(\"Invalid randomness level. Please choose 'low', 'medium', or 'high'.\")\n",
    "    \n",
    "    demand_r = {\n",
    "        (i, t, s): demand_avg[(i, t)]*noise_factors[(i, t, s)] for i in I for t in T for s in S\n",
    "    }\n",
    "    return demand_r"
   ]
  },
  {
   "cell_type": "markdown",
   "metadata": {},
   "source": [
    "#### Randomize"
   ]
  },
  {
   "cell_type": "code",
   "execution_count": 147,
   "metadata": {},
   "outputs": [],
   "source": [
    "random_key = 'medium'"
   ]
  },
  {
   "cell_type": "code",
   "execution_count": 148,
   "metadata": {},
   "outputs": [],
   "source": [
    "generation_r = generate_randomized_generation(I, T, S, generation_avg, random_key)\n",
    "demand_r = generate_randomized_demand(I, T, S, demand_avg, random_key)"
   ]
  },
  {
   "cell_type": "markdown",
   "metadata": {},
   "source": [
    "#### Residual = generation - demand"
   ]
  },
  {
   "cell_type": "code",
   "execution_count": 149,
   "metadata": {},
   "outputs": [],
   "source": [
    "residual = {(i, t, s): generation_r[(i, t, s)] - demand_r[(i, t, s)] for i in I for t in T for s in S}\n",
    "\n",
    "R = {\n",
    "    (i, t, s): max(0, residual[(i, t, s)])\n",
    "    for i in I for t in T for s in S\n",
    "}"
   ]
  },
  {
   "cell_type": "markdown",
   "metadata": {},
   "source": [
    "#### Price 설정"
   ]
  },
  {
   "cell_type": "code",
   "execution_count": 150,
   "metadata": {},
   "outputs": [],
   "source": [
    "unique_days = generation_q['Time'].dt.normalize().unique()\n",
    "days = len(unique_days)\n",
    "S = list(range(min(len(S), days)))\n",
    "\n",
    "price_q['Hour'] = price_q['Time'].dt.floor('H')\n",
    "price_h = price_q.groupby('Hour').mean(numeric_only=True)  \n",
    "\n",
    "price = price_h.iloc[:len(S)*len(T)]\n",
    "\n",
    "P_DA = {t: sum(price['Price'].iloc[t + s * len(T)] for s in S) / len(S) * 1.2 for t in T}\n",
    "P_RT = {(t, s): price['Price'].iloc[t + s * len(T)] for t in T for s in S}\n",
    "P_PN = {t: sum(price['Price'].iloc[t + s * len(T)] for s in S) / len(S) * 2 for t in T}"
   ]
  },
  {
   "cell_type": "markdown",
   "metadata": {},
   "source": [
    "### 모델 DER only"
   ]
  },
  {
   "cell_type": "code",
   "execution_count": 151,
   "metadata": {},
   "outputs": [],
   "source": [
    "x_DA_1 = {(i, t): cp.Variable(pos=True) for i in I for t in T}\n",
    "y_plus_1 = {(i, t, s): cp.Variable(pos=True) for i in I for t in T for s in S}\n",
    "y_minus_1 = {(i, t, s): cp.Variable(pos=True) for i in I for t in T for s in S}"
   ]
  },
  {
   "cell_type": "code",
   "execution_count": 152,
   "metadata": {},
   "outputs": [
    {
     "name": "stderr",
     "output_type": "stream",
     "text": [
      "c:\\Users\\symply_jina\\AppData\\Local\\Programs\\Python\\Python311\\Lib\\site-packages\\cvxpy\\problems\\problem.py:158: UserWarning: Objective contains too many subexpressions. Consider vectorizing your CVXPY code to speed up compilation.\n",
      "  warnings.warn(\"Objective contains too many subexpressions. \"\n"
     ]
    },
    {
     "data": {
      "text/plain": [
       "10992.730232353653"
      ]
     },
     "execution_count": 152,
     "metadata": {},
     "output_type": "execute_result"
    }
   ],
   "source": [
    "obj_case1 = sum(\n",
    "    P_DA[t] * x_DA_1[i, t] for i in I for t in T\n",
    ") + sum(\n",
    "    prob[s] * (P_RT[t, s] * y_plus_1[i, t, s] - P_PN[t] * y_minus_1[i, t, s])\n",
    "    for i in I for t in T for s in S\n",
    ")\n",
    "\n",
    "constraints_case1 = []\n",
    "\n",
    "for i in I:\n",
    "    for t in T:\n",
    "        for s in S:\n",
    "            constraints_case1.append(R[i, t, s] - x_DA_1[i, t] == y_plus_1[i, t, s] - y_minus_1[i, t, s])\n",
    "\n",
    "for i in I:\n",
    "    for t in T:\n",
    "        for s in S:\n",
    "            constraints_case1.append(R[i,t,s] >= y_plus_1[i, t, s])\n",
    "\n",
    "\n",
    "M = max(R[i,t,s] for i in I for t in T for s in S)\n",
    "z_case1 = {(i, t, s): cp.Variable(boolean=True) for i in I for t in T for s in S}\n",
    "for i in I:\n",
    "    for t in T:\n",
    "        for s in S:\n",
    "            constraints_case1.append(y_plus_1[i, t, s] <= M * z_case1[i, t, s])\n",
    "            constraints_case1.append(y_minus_1[i, t, s] <= M * (1 - z_case1[i, t, s]))\n",
    "\n",
    "prob_case1 = cp.Problem(cp.Maximize(obj_case1), constraints_case1)\n",
    "prob_case1.solve(solver='GUROBI', IntFeasTol=1e-9, TimeLimit=60*30)"
   ]
  },
  {
   "cell_type": "code",
   "execution_count": 153,
   "metadata": {},
   "outputs": [],
   "source": [
    "# 결과 저장\n",
    "data = {\n",
    "    i: [x_DA_1[i, t].value for t in T] for i in I\n",
    "}\n",
    "df = pd.DataFrame(data, index=T)\n",
    "df.to_excel(f'./x_DA_1_results_rand{random_key}.xlsx')\n",
    "\n",
    "output_file = f\"./y_plus_1_results_rand{random_key}.xlsx\"\n",
    "\n",
    "with pd.ExcelWriter(output_file) as writer:\n",
    "    for i in I:\n",
    "        data = {\n",
    "            s: [y_plus_1[i, t, s].value for t in T] for s in S\n",
    "        }\n",
    "        df = pd.DataFrame(data, index=T)\n",
    "        \n",
    "        sheet_name = f\"i_{i}\"\n",
    "        df.to_excel(writer, sheet_name=sheet_name)\n",
    "        \n",
    "output_file = f\"./y_minus_1_results_rand{random_key}.xlsx\"\n",
    "\n",
    "with pd.ExcelWriter(output_file) as writer:\n",
    "    for i in I:\n",
    "        data = {\n",
    "            s: [y_minus_1[i, t, s].value for t in T] for s in S\n",
    "        }\n",
    "        df = pd.DataFrame(data, index=T)\n",
    "        \n",
    "        sheet_name = f\"i_{i}\"\n",
    "        df.to_excel(writer, sheet_name=sheet_name)"
   ]
  },
  {
   "cell_type": "markdown",
   "metadata": {},
   "source": [
    "### 결과 분석"
   ]
  },
  {
   "cell_type": "markdown",
   "metadata": {},
   "source": [
    "#### 수익 분석"
   ]
  },
  {
   "cell_type": "code",
   "execution_count": 154,
   "metadata": {},
   "outputs": [
    {
     "name": "stdout",
     "output_type": "stream",
     "text": [
      "총 Day-ahead 수익 (_obj): 2945.38\n",
      "총 Real-time 수익 (_obj): 8618.07\n",
      "총 Penalty 비용 (_obj): 570.72\n",
      "목적 함수 기반 총 이익 (_obj): 10992.73\n"
     ]
    }
   ],
   "source": [
    "# Day-ahead 수익 비교\n",
    "total_da_profit_obj = 0\n",
    "for i in I:\n",
    "    for t in T:\n",
    "        total_da_profit_obj += P_DA[t] * x_DA_1[i,t].value\n",
    "\n",
    "# Real-time 수익 비교\n",
    "total_rt_profit_obj = 0\n",
    "for i in I:\n",
    "    for t in T:\n",
    "        for s in S:\n",
    "            rt_profit_obj = P_RT[t, s] * y_plus_1[i, t, s].value\n",
    "            total_rt_profit_obj += prob[s] * rt_profit_obj\n",
    "\n",
    "# 패널티 비용 비교\n",
    "total_penalty_cost_obj = 0\n",
    "for i in I:\n",
    "    for t in T:\n",
    "        for s in S:\n",
    "            penalty_cost_obj = P_PN[t] * y_minus_1[i, t, s].value\n",
    "            total_penalty_cost_obj += prob[s] * penalty_cost_obj\n",
    "\n",
    "# 총 시스템 이익 (목적 함수 기반)\n",
    "total_system_profit_obj = total_da_profit_obj + total_rt_profit_obj - total_penalty_cost_obj\n",
    "\n",
    "# 결과 출력\n",
    "print(f\"총 Day-ahead 수익 (_obj): {total_da_profit_obj:.2f}\")\n",
    "print(f\"총 Real-time 수익 (_obj): {total_rt_profit_obj:.2f}\")\n",
    "print(f\"총 Penalty 비용 (_obj): {total_penalty_cost_obj:.2f}\")\n",
    "print(f\"목적 함수 기반 총 이익 (_obj): {total_system_profit_obj:.2f}\")"
   ]
  },
  {
   "cell_type": "markdown",
   "metadata": {},
   "source": [
    "#### 하루 개인별 커밋량 합 분석"
   ]
  },
  {
   "cell_type": "code",
   "execution_count": 155,
   "metadata": {},
   "outputs": [
    {
     "name": "stdout",
     "output_type": "stream",
     "text": [
      "시간 0: 0.0\n",
      "시간 1: 0.0\n",
      "시간 2: 0.0\n",
      "시간 3: 0.0\n",
      "시간 4: 0.0\n",
      "시간 5: 0.0\n",
      "시간 6: 0.0\n",
      "시간 7: 0.0\n",
      "시간 8: 0.0\n",
      "시간 9: 0.2705125471686891\n",
      "시간 10: 6.633969304838254\n",
      "시간 11: 18.57972207988184\n",
      "시간 12: 21.14673408322065\n",
      "시간 13: 25.77011898934513\n",
      "시간 14: 13.002038707067452\n",
      "시간 15: 5.538486093819148\n",
      "시간 16: 0.7208828767958564\n",
      "시간 17: 0.0\n",
      "시간 18: 0.0\n",
      "시간 19: 0.0\n",
      "시간 20: 0.0\n",
      "시간 21: 0.0\n",
      "시간 22: 0.0\n",
      "시간 23: 0.0\n",
      "총 하루 commmit: 91.66246468213703\n"
     ]
    }
   ],
   "source": [
    "sum_x = 0\n",
    "for t in T:\n",
    "    time_sum = sum(x_DA_1[i,t].value for i in I)\n",
    "    print(f\"시간 {t}: {time_sum}\")\n",
    "    sum_x += time_sum\n",
    "print(f\"총 하루 commmit: {sum_x}\")\n"
   ]
  },
  {
   "cell_type": "markdown",
   "metadata": {},
   "source": [
    "#### 개인 수익 분석"
   ]
  },
  {
   "cell_type": "code",
   "execution_count": 156,
   "metadata": {},
   "outputs": [
    {
     "name": "stdout",
     "output_type": "stream",
     "text": [
      "\n",
      "der_profit:\n",
      "0: 912.57\n",
      "1: 595.73\n",
      "2: 941.72\n",
      "3: 824.58\n",
      "4: 547.22\n",
      "5: 511.60\n",
      "6: 1159.65\n",
      "7: 820.22\n",
      "8: 423.18\n",
      "9: 606.98\n",
      "10: 371.08\n",
      "11: 87.75\n",
      "12: 664.98\n",
      "13: 533.54\n",
      "14: 581.47\n",
      "15: 467.51\n",
      "16: 91.94\n",
      "17: 498.09\n",
      "18: 352.92\n",
      "\n",
      "모든 der의 profit 합계: 10992.73\n"
     ]
    }
   ],
   "source": [
    "# 모든 der의 profit 합계 계산\n",
    "total_der_profit = 0\n",
    "der_profit = {}\n",
    "for i in I:\n",
    "    # 각 der i의 profit 합계 계산\n",
    "    der_profit[i] = sum(P_DA[t] * x_DA_1[i,t].value + sum(prob[s] * (P_RT[t,s] * y_plus_1[i,t,s].value - P_PN[t] * y_minus_1[i,t,s].value) for s in S) for t in T)\n",
    "    total_der_profit += der_profit[i]\n",
    "\n",
    "print(\"\\nder_profit:\")\n",
    "for i, value in der_profit.items():\n",
    "    print(f\"{i}: {value:.2f}\")\n",
    "\n",
    "print(f\"\\n모든 der의 profit 합계: {total_der_profit:.2f}\")\n"
   ]
  },
  {
   "cell_type": "markdown",
   "metadata": {},
   "source": [
    "### 결과 저장"
   ]
  },
  {
   "cell_type": "code",
   "execution_count": 157,
   "metadata": {},
   "outputs": [],
   "source": [
    "R_sum = {(i, t): sum(R[i, t, s] for s in S) / len(S) for i in I for t in T}\n",
    "R_df = pd.DataFrame({i: {t: R_sum[i, t] for t in T} for i in I})\n",
    "R_df.to_csv('result_R.csv', index=False)\n",
    "\n",
    "pd.DataFrame(list(P_DA.items()), columns=['time', 'price']).to_csv('result_P_DA.csv', index=False)\n",
    "\n",
    "total_x_da_1 = {t: sum(x_DA_1[i,t].value for i in I) for t in T}\n",
    "total_x_da_1_df = pd.DataFrame({'total_x_da_1': total_x_da_1})\n",
    "total_x_da_1_df.to_csv('result_total_X_DA.csv', index=False)\n",
    "\n",
    "der_profit_value = pd.DataFrame({'der_profit_value': der_profit})\n",
    "der_profit_value.to_csv('result_der_profit.csv', index=False)\n",
    "\n",
    "only_value = pd.DataFrame({'only_value': [prob_case1.value]})\n",
    "only_value.to_csv('result_only_value.csv', index=False)"
   ]
  }
 ],
 "metadata": {
  "kernelspec": {
   "display_name": "Python 3",
   "language": "python",
   "name": "python3"
  },
  "language_info": {
   "codemirror_mode": {
    "name": "ipython",
    "version": 3
   },
   "file_extension": ".py",
   "mimetype": "text/x-python",
   "name": "python",
   "nbconvert_exporter": "python",
   "pygments_lexer": "ipython3",
   "version": "3.11.4"
  }
 },
 "nbformat": 4,
 "nbformat_minor": 2
}
