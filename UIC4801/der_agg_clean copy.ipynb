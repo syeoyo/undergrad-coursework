{
 "cells": [
  {
   "cell_type": "code",
   "execution_count": 1,
   "metadata": {},
   "outputs": [],
   "source": [
    "import pandas as pd\n",
    "import numpy as np\n",
    "import cvxpy as cp\n",
    "import matplotlib.pyplot as plt"
   ]
  },
  {
   "cell_type": "markdown",
   "metadata": {},
   "source": [
    "### 데이터 로드 (q: 15분 단위, h: 1시간 단위)"
   ]
  },
  {
   "cell_type": "code",
   "execution_count": 2,
   "metadata": {},
   "outputs": [],
   "source": [
    "generation_q = pd.read_csv(\"C:/Users/symply_jina/Desktop/seohyun/UIC4801/DATA_generation.csv\")\n",
    "generation_q['Time'] = pd.to_datetime(generation_q['Time'], format='%Y-%m-%d %H:%M')\n",
    "generation_q['Hour'] = generation_q['Time'].dt.floor('H') \n",
    "generation_h = generation_q.groupby('Hour').sum(numeric_only=True)  \n",
    "\n",
    "demand_q = pd.read_csv(\"C:/Users/symply_jina/Desktop/seohyun/UIC4801/DATA_demand.csv\")\n",
    "demand_q['Time'] = pd.to_datetime(demand_q['Time'], format='%Y-%m-%d %H:%M')\n",
    "demand_q['Hour'] = demand_q['Time'].dt.floor('H')   \n",
    "demand_h = demand_q.groupby('Hour').sum(numeric_only=True)  \n",
    "\n",
    "price_q = pd.read_csv(\"C:/Users/symply_jina/Desktop/seohyun/UIC4801/DATA_price.csv\")\n",
    "price_q['Time'] = pd.to_datetime(price_q['Time'], format='%Y-%m-%d %H:%M')"
   ]
  },
  {
   "cell_type": "markdown",
   "metadata": {},
   "source": [
    "### Set"
   ]
  },
  {
   "cell_type": "code",
   "execution_count": 3,
   "metadata": {},
   "outputs": [],
   "source": [
    "I = list(range(len(generation_q.columns) - 2))\n",
    "T = list(generation_q['Time'].dt.hour.unique())\n",
    "S = list(range(20))\n",
    "prob = {s: 1 / len(S) for s in S}"
   ]
  },
  {
   "cell_type": "markdown",
   "metadata": {},
   "source": [
    "### 데이터 전처리"
   ]
  },
  {
   "cell_type": "markdown",
   "metadata": {},
   "source": [
    "#### Generation"
   ]
  },
  {
   "cell_type": "code",
   "execution_count": 4,
   "metadata": {},
   "outputs": [],
   "source": [
    "generation_avg = {\n",
    "    (i, t): generation_h[generation_h.index.hour == t].mean()[i] for i in I for t in T\n",
    "}\n",
    "\n",
    "def generate_randomized_generation(I, T, S, generation_avg, randomness_level):\n",
    "    np.random.seed(7)\n",
    "    if randomness_level == 'low':\n",
    "        noise_factors = {(i, t, s): np.random.uniform(0.8, 1.2) for i in I for t in T for s in S}\n",
    "    elif randomness_level == 'medium':\n",
    "        noise_factors = {(i, t, s): np.random.uniform(0.5, 1.5) for i in I for t in T for s in S}\n",
    "    elif randomness_level == 'high':\n",
    "        noise_factors = {(i, t, s): np.random.uniform(0.2, 1.8) for i in I for t in T for s in S}\n",
    "    else:\n",
    "        raise ValueError(\"Invalid randomness level. Please choose 'low', 'medium', or 'high'.\")\n",
    "    \n",
    "    generation_r = {\n",
    "        (i, t, s): generation_avg[(i, t)]*noise_factors[(i, t, s)] for i in I for t in T for s in S\n",
    "    }\n",
    "    return generation_r"
   ]
  },
  {
   "cell_type": "markdown",
   "metadata": {},
   "source": [
    "#### Demand (randomized)"
   ]
  },
  {
   "cell_type": "code",
   "execution_count": 5,
   "metadata": {},
   "outputs": [],
   "source": [
    "demand_avg = {\n",
    "    (i, t): demand_h[demand_h.index.hour == t].mean()[i] for i in I for t in T\n",
    "}\n",
    "\n",
    "def generate_randomized_demand(I, T, S, demand_avg, randomness_level):\n",
    "    np.random.seed(17)\n",
    "    if randomness_level == 'low':\n",
    "        noise_factors = {(i, t, s): np.random.uniform(0.8, 1.2) for i in I for t in T for s in S}\n",
    "    elif randomness_level == 'medium':\n",
    "        noise_factors = {(i, t, s): np.random.uniform(0.5, 1.5) for i in I for t in T for s in S}\n",
    "    elif randomness_level == 'high':\n",
    "        noise_factors = {(i, t, s): np.random.uniform(0.2, 1.8) for i in I for t in T for s in S}\n",
    "    else:\n",
    "        raise ValueError(\"Invalid randomness level. Please choose 'low', 'medium', or 'high'.\")\n",
    "    \n",
    "    demand_r = {\n",
    "        (i, t, s): demand_avg[(i, t)]*noise_factors[(i, t, s)] for i in I for t in T for s in S\n",
    "    }\n",
    "    return demand_r"
   ]
  },
  {
   "cell_type": "markdown",
   "metadata": {},
   "source": [
    "#### Randomize"
   ]
  },
  {
   "cell_type": "code",
   "execution_count": 6,
   "metadata": {},
   "outputs": [],
   "source": [
    "generation_r = generate_randomized_generation(I, T, S, generation_avg, 'medium')\n",
    "demand_r = generate_randomized_demand(I, T, S, demand_avg, 'medium')"
   ]
  },
  {
   "cell_type": "markdown",
   "metadata": {},
   "source": [
    "#### Residual = generation - demand"
   ]
  },
  {
   "cell_type": "code",
   "execution_count": 7,
   "metadata": {},
   "outputs": [],
   "source": [
    "residual = {(i, t, s): generation_r[(i, t, s)] - demand_r[(i, t, s)] for i in I for t in T for s in S}\n",
    "\n",
    "R = {\n",
    "    (i, t, s): max(0, residual[(i, t, s)])\n",
    "    for i in I for t in T for s in S\n",
    "}"
   ]
  },
  {
   "cell_type": "markdown",
   "metadata": {},
   "source": [
    "### Price 설정"
   ]
  },
  {
   "cell_type": "code",
   "execution_count": 8,
   "metadata": {},
   "outputs": [],
   "source": [
    "unique_days = generation_q['Time'].dt.normalize().unique()\n",
    "days = len(unique_days)\n",
    "D = list(range(min(len(S), days)))\n",
    "\n",
    "price_q['Hour'] = price_q['Time'].dt.floor('H')    # 시간으로 그룹화\n",
    "price_h = price_q.groupby('Hour').mean(numeric_only=True)  # 각 시간대별로 평균 계산\n",
    "\n",
    "price = price_h.iloc[:len(D)*len(T)]\n",
    "\n",
    "P_DA = {t: sum(price['Price'].iloc[t + d * len(T)] for d in D) / len(D) * 1.2 for t in T}\n",
    "P_RT = {(t, d): price['Price'].iloc[t + d * len(T)] for t in T for d in D}\n",
    "P_PN = {t: sum(price['Price'].iloc[t + d * len(T)] for d in D) / len(D) * 2 for t in T}"
   ]
  },
  {
   "cell_type": "markdown",
   "metadata": {},
   "source": [
    "### 모델 DER with Aggregation (Part: Aggregation)"
   ]
  },
  {
   "cell_type": "code",
   "execution_count": 9,
   "metadata": {},
   "outputs": [],
   "source": [
    "alpha_DA = {t: cp.Variable(pos=True) for t in T}\n",
    "beta_plus = {(t, s): cp.Variable(pos=True) for t in T for s in S}\n",
    "beta_minus = {(t, s): cp.Variable(pos=True) for t in T for s in S}"
   ]
  },
  {
   "cell_type": "code",
   "execution_count": 10,
   "metadata": {},
   "outputs": [
    {
     "name": "stdout",
     "output_type": "stream",
     "text": [
      "Set parameter Username\n",
      "Academic license - for non-commercial use only - expires 2025-03-25\n"
     ]
    },
    {
     "data": {
      "text/plain": [
       "16153.516356625341"
      ]
     },
     "execution_count": 10,
     "metadata": {},
     "output_type": "execute_result"
    }
   ],
   "source": [
    "obj_case2 = sum(\n",
    "    P_DA[t] * alpha_DA[t] for t in T\n",
    ") + sum(\n",
    "    prob[s] * (P_RT[t, s] * beta_plus[t, s] - P_PN[t] * beta_minus[t, s])\n",
    "    for t in T for s in S\n",
    ")\n",
    "\n",
    "constraints_case2 = []\n",
    "\n",
    "for t in T:\n",
    "    for s in S:\n",
    "        constraints_case2.append(sum(R[i, t, s] for i in I) - alpha_DA[t] == beta_plus[t, s] - beta_minus[t, s])\n",
    "\n",
    "for t in T:\n",
    "    for s in S:\n",
    "        constraints_case2.append(sum(R[i,t,s] for i in I) >= beta_plus[t, s])\n",
    "\n",
    "M = max(sum(R[i,t,s] for i in I) for t in T for s in S)\n",
    "z_case2 = {(t, s): cp.Variable(boolean=True) for t in T for s in S}\n",
    "for t in T:\n",
    "    for s in S:\n",
    "            constraints_case2.append(beta_plus[t, s] <= M * z_case2[t, s])\n",
    "            constraints_case2.append(beta_minus[t, s] <= M * (1 - z_case2[t, s]))\n",
    "\n",
    "prob_case2 = cp.Problem(cp.Maximize(obj_case2), constraints_case2)\n",
    "prob_case2.solve(solver='GUROBI', TimeLimit=60*30, IntFeasTol=1e-9)"
   ]
  },
  {
   "cell_type": "code",
   "execution_count": 11,
   "metadata": {},
   "outputs": [
    {
     "name": "stdout",
     "output_type": "stream",
     "text": [
      "Case 2 최적해:\n",
      "총 이익: 16153.516356625341\n"
     ]
    }
   ],
   "source": [
    "print(\"Case 2 최적해:\")\n",
    "print(f\"총 이익: {prob_case2.value}\")"
   ]
  },
  {
   "cell_type": "markdown",
   "metadata": {},
   "source": [
    "### 결과 분석"
   ]
  },
  {
   "cell_type": "markdown",
   "metadata": {},
   "source": [
    "#### 수익 분석"
   ]
  },
  {
   "cell_type": "code",
   "execution_count": 12,
   "metadata": {},
   "outputs": [
    {
     "name": "stdout",
     "output_type": "stream",
     "text": [
      "총 Day-ahead 수익 (_obj): 13535.52\n",
      "총 Real-time 수익 (_obj): 3032.59\n",
      "총 Penalty 비용 (_obj): 414.60\n",
      "목적 함수 기반 총 이익 (_obj): 16153.52\n"
     ]
    }
   ],
   "source": [
    "# Day-ahead 수익 비교\n",
    "total_da_profit_obj = 0\n",
    "for t in T:\n",
    "    total_da_profit_obj += P_DA[t] * alpha_DA[t].value\n",
    "\n",
    "# Real-time 수익 비교\n",
    "total_rt_profit_obj = 0\n",
    "for t in T:\n",
    "    for s in S:\n",
    "        rt_profit_obj = P_RT[t, s] * beta_plus[t, s].value\n",
    "        total_rt_profit_obj += prob[s] * rt_profit_obj\n",
    "\n",
    "# 패널티 비용 비교\n",
    "total_penalty_cost_obj = 0\n",
    "for t in T:\n",
    "    for s in S:\n",
    "        penalty_cost_obj = P_PN[t] * beta_minus[t, s].value\n",
    "        total_penalty_cost_obj += prob[s] * penalty_cost_obj\n",
    "\n",
    "# 총 시스템 이익 (목적 함수 기반)\n",
    "total_system_profit_obj = total_da_profit_obj + total_rt_profit_obj - total_penalty_cost_obj\n",
    "\n",
    "# 결과 출력\n",
    "print(f\"총 Day-ahead 수익 (_obj): {total_da_profit_obj:.2f}\")\n",
    "print(f\"총 Real-time 수익 (_obj): {total_rt_profit_obj:.2f}\")\n",
    "print(f\"총 Penalty 비용 (_obj): {total_penalty_cost_obj:.2f}\")\n",
    "print(f\"목적 함수 기반 총 이익 (_obj): {total_system_profit_obj:.2f}\")"
   ]
  },
  {
   "cell_type": "markdown",
   "metadata": {},
   "source": [
    "#### 하루 aggregated 커밋량 분석"
   ]
  },
  {
   "cell_type": "code",
   "execution_count": 13,
   "metadata": {},
   "outputs": [
    {
     "name": "stdout",
     "output_type": "stream",
     "text": [
      "시간 0: alpha: 0.00, beta+: 0.00, beta-: 0.00\n",
      "시간 1: alpha: 0.00, beta+: 0.00, beta-: 0.00\n",
      "시간 2: alpha: 0.00, beta+: 0.00, beta-: 0.00\n",
      "시간 3: alpha: 0.00, beta+: 0.00, beta-: 0.00\n",
      "시간 4: alpha: 0.00, beta+: 0.00, beta-: 0.00\n",
      "시간 5: alpha: 0.00, beta+: 0.00, beta-: 0.00\n",
      "시간 6: alpha: 0.00, beta+: 0.00, beta-: 0.00\n",
      "시간 7: alpha: 0.00, beta+: 0.00, beta-: 0.00\n",
      "시간 8: alpha: 0.00, beta+: 0.61, beta-: 0.00\n",
      "시간 9: alpha: 9.52, beta+: 2.68, beta-: 0.41\n",
      "시간 10: alpha: 32.29, beta+: 7.23, beta-: 0.73\n",
      "시간 11: alpha: 57.22, beta+: 11.05, beta-: 0.44\n",
      "시간 12: alpha: 68.46, beta+: 11.98, beta-: 0.95\n",
      "시간 13: alpha: 64.78, beta+: 17.59, beta-: 0.43\n",
      "시간 14: alpha: 53.12, beta+: 13.11, beta-: 0.66\n",
      "시간 15: alpha: 38.29, beta+: 7.82, beta-: 1.90\n",
      "시간 16: alpha: 9.89, beta+: 8.88, beta-: 0.49\n",
      "시간 17: alpha: 0.69, beta+: 1.56, beta-: 0.09\n",
      "시간 18: alpha: 0.00, beta+: 0.02, beta-: 0.00\n",
      "시간 19: alpha: 0.00, beta+: 0.00, beta-: 0.00\n",
      "시간 20: alpha: 0.00, beta+: 0.00, beta-: 0.00\n",
      "시간 21: alpha: 0.00, beta+: 0.00, beta-: 0.00\n",
      "시간 22: alpha: 0.00, beta+: 0.00, beta-: 0.00\n",
      "시간 23: alpha: 0.00, beta+: 0.00, beta-: 0.00\n",
      "334.2561435597984\n"
     ]
    }
   ],
   "source": [
    "# 각 t에 대한 alpha, beta +,-의 시나리오 평균 계산\n",
    "for t in T:\n",
    "    avg_alpha = alpha_DA[t].value\n",
    "    avg_beta_plus = sum(beta_plus[t, s].value for s in S) / len(S)\n",
    "    avg_beta_minus = sum(beta_minus[t, s].value for s in S) / len(S)\n",
    "    print(f\"시간 {t}: alpha: {avg_alpha:.2f}, beta+: {avg_beta_plus:.2f}, beta-: {avg_beta_minus:.2f}\")\n",
    "\n",
    "print(sum(alpha_DA[t].value for t in T))"
   ]
  },
  {
   "cell_type": "markdown",
   "metadata": {},
   "source": [
    "### 결과 저장"
   ]
  },
  {
   "cell_type": "code",
   "execution_count": 14,
   "metadata": {},
   "outputs": [],
   "source": [
    "alpha_DA_df = pd.DataFrame({'alpha_DA': [alpha_DA[t].value for t in T]})\n",
    "alpha_DA_df.to_csv('result_alpha_DA.csv', index=False)\n",
    "\n",
    "agg_value = pd.DataFrame({'agg_value': [prob_case2.value]})\n",
    "agg_value.to_csv('result_agg_value.csv', index=False)"
   ]
  }
 ],
 "metadata": {
  "kernelspec": {
   "display_name": "Python 3",
   "language": "python",
   "name": "python3"
  },
  "language_info": {
   "codemirror_mode": {
    "name": "ipython",
    "version": 3
   },
   "file_extension": ".py",
   "mimetype": "text/x-python",
   "name": "python",
   "nbconvert_exporter": "python",
   "pygments_lexer": "ipython3",
   "version": "3.11.4"
  }
 },
 "nbformat": 4,
 "nbformat_minor": 2
}
